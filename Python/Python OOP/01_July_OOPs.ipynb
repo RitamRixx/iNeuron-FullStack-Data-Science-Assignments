{
 "cells": [
  {
   "cell_type": "markdown",
   "id": "55f89f41",
   "metadata": {},
   "source": [
    "# 1st July assignment"
   ]
  },
  {
   "cell_type": "markdown",
   "id": "fbdd73cd",
   "metadata": {},
   "source": [
    "#### 1. What is the primary goal of Object-Oriented Programming (OOP)?\n",
    "**Ans:** The primary goal of Object-Oriented Programming (OOP) is to organize software design around data, or objects, rather than functions and logic. OOP focuses on manipulating objects that have unique attributes and behavior, making it well-suited for large, complex, and actively updated programs."
   ]
  },
  {
   "cell_type": "markdown",
   "id": "d34de823",
   "metadata": {},
   "source": [
    "#### 2. What is an object in Python?\n",
    "**Ans:** In Python, an object is a fundamental concept that represents a particular instance of a class. Objects encapsulate both data (attributes) and behavior (methods) into a single entity."
   ]
  },
  {
   "cell_type": "markdown",
   "id": "94a715b3",
   "metadata": {},
   "source": [
    "#### 3. What is a class in Python?\n",
    "**Ans:** In Python, a class is a user-defined blueprint or prototype from which objects are created. Classes serve as a way to bundle data and functionality together, providing a structure for creating new instances of that type."
   ]
  },
  {
   "cell_type": "markdown",
   "id": "e4f9a073",
   "metadata": {},
   "source": [
    "#### 4. What are attributes and methods in a class?\n",
    "**Ans:** **Attributes** are data members inside a class or an object that represent the different features or characteristics of the class.\n",
    "\n",
    "**Methods** are functions defined within a class that perform operations on the object's data (attributes)."
   ]
  },
  {
   "cell_type": "markdown",
   "id": "dbe15370",
   "metadata": {},
   "source": [
    "#### 5. What is the difference between class variables and instance variables in Python?\n",
    "**Ans:** In Python, class variables and instance variables serve different purposes within classes. Here are the key distinctions between class variables and instance variables:\n",
    "\n",
    "**1.** Class variables are variables that are shared among all instances of a class. They are defined within the class definition but outside of any method. Instance variables are variables that are unique to each instance of a class. They are defined within the class's methods and are prefixed with self to indicate that they belong to a specific instance.\n",
    "\n",
    "**2.** Class variables can be accessed using the class name itself or through any instance of the class.Instance variables are accessed using the instance name and are specific to the individual instance."
   ]
  },
  {
   "cell_type": "markdown",
   "id": "0a7ff704",
   "metadata": {},
   "source": [
    "#### 6. What is the purpose of the self parameter in Python class methods?\n",
    "\n",
    "**Ans:** The self parameter in Python class methods serves the purpose of representing the instance of the class. It allows methods to access and manipulate attributes (variables) and call other methods of the same class using this special variable. "
   ]
  },
  {
   "cell_type": "markdown",
   "id": "3937927e",
   "metadata": {},
   "source": [
    "#### 7. For a library management system, you have to design the \"Book\" class with OOP principles in mind. The “Book” class will have following attributes:\n",
    "a. title: Represents the title of the book.\n",
    "\n",
    "b. author: Represents the author(s) of the book.\n",
    "\n",
    "c. isbn: Represents the ISBN (International Standard Book Number) of the book.\n",
    "\n",
    "d. publication_year: Represents the year of publication of the book.\n",
    "\n",
    "e. available_copies: Represents the number of copies available for checkout.\n",
    "\n",
    "#### The class will also include the following methods:\n",
    "\n",
    "a. check_out(self): Decrements the available copies by one if there are copies\n",
    "available for checkout.\n",
    "\n",
    "b. return_book(self): Increments the available copies by one when a book is\n",
    "returned.\n",
    "\n",
    "c. display_book_info(self): Displays the information about the book, including its\n",
    "attributes and the number of available copies."
   ]
  },
  {
   "cell_type": "code",
   "execution_count": 17,
   "id": "437c539b",
   "metadata": {},
   "outputs": [
    {
     "name": "stdout",
     "output_type": "stream",
     "text": [
      "Title: Introduction to AI/ML and Data Science\n",
      "Author: Sudhir Reddy Navar\n",
      "ISBN: 9356684164\n",
      "Publication year: 2022\n",
      "Available copies: 5\n",
      "Book checked out successfully.\n",
      "Book returned successfully\n"
     ]
    }
   ],
   "source": [
    "class Book:\n",
    "    def __init__(self,title,author,isbn,publication_year, available_copies):\n",
    "        self.title = title\n",
    "        self.author = author\n",
    "        self.isbn = isbn\n",
    "        self.publication_year = publication_year\n",
    "        self.available_copies = available_copies\n",
    "        \n",
    "    def display_info(self):\n",
    "        print(f\"Title: {self.title}\")\n",
    "        print(f\"Author: {self.author}\")\n",
    "        print(f\"ISBN: {self.isbn}\")\n",
    "        print(f\"Publication year: {self.publication_year}\")\n",
    "        print(f\"Available copies: {self.available_copies}\")\n",
    "        \n",
    "        \n",
    "    def checkout(self):\n",
    "        if self.available_copies > 0:\n",
    "            self.available_copies -= 1\n",
    "            print(\"Book checked out successfully.\")\n",
    "        else:\n",
    "            print(\"No copies available for checkout.\")\n",
    "            \n",
    "            \n",
    "            \n",
    "    def return_book(self):\n",
    "        self.available_copies += 1\n",
    "        print(\"Book returned successfully\")\n",
    "        \n",
    "\n",
    "        \n",
    "book1 = Book(\"Introduction to AI/ML and Data Science\", \"Sudhir Reddy Navar\",\"9356684164\",\"2022\",5)\n",
    "book1.display_info()\n",
    "book1.checkout()\n",
    "book1.return_book()\n",
    "\n",
    "        \n",
    "    "
   ]
  },
  {
   "cell_type": "markdown",
   "id": "ea588408",
   "metadata": {},
   "source": [
    "#### 8. For a ticket booking system, you have to design the \"Ticket\" class with OOP principles in mind. The “Ticket” class should have the following attributes:\n",
    "\n",
    "a. ticket_id: Represents the unique identifier for the ticket.\n",
    "\n",
    "b. event_name: Represents the name of the event.\n",
    "\n",
    "c. event_date: Represents the date of the event.\n",
    "\n",
    "d. venue: Represents the venue of the event.\n",
    "\n",
    "e. seat_number: Represents the seat number associated with the ticket.\n",
    "\n",
    "f. price: Represents the price of the ticket.\n",
    "\n",
    "g. is_reserved: Represents the reservation status of the ticket.\n",
    "\n",
    "#### The class also includes the following methods:\n",
    "\n",
    "a. reserve_ticket(self): Marks the ticket as reserved if it is not already reserved.\n",
    "\n",
    "b. cancel_reservation(self): Cancels the reservation of the ticket if it is already\n",
    "reserved.\n",
    "\n",
    "c. display_ticket_info(self): Displays the information about the ticket, including its\n",
    "attributes and reservation status.\n",
    "    \n"
   ]
  },
  {
   "cell_type": "code",
   "execution_count": 28,
   "id": "0830f5b4",
   "metadata": {},
   "outputs": [
    {
     "name": "stdout",
     "output_type": "stream",
     "text": [
      "Ticket ID: 1\n",
      "Event Name: Concert\n",
      "Event Date: 2024-03-15\n",
      "Venue: City Arena\n",
      "Seat Number: D52\n",
      "Price: 500\n",
      "Reservation Status: Not Reserved\n",
      "Ticket reserved successfully.\n",
      "Reservation canceled successfully.\n"
     ]
    }
   ],
   "source": [
    "class Ticket:\n",
    "    def __init__(self, ticket_id, event_name, event_date, venue, seat_number, price,is_reserved):\n",
    "        self.ticket_id = ticket_id\n",
    "        self.event_name = event_name\n",
    "        self.event_date = event_date\n",
    "        self.venue = venue\n",
    "        self.seat_number = seat_number\n",
    "        self.price = price\n",
    "        self.is_reserved = is_reserved\n",
    "        \n",
    "\n",
    "    def reserve_ticket(self):\n",
    "        if not self.is_reserved:\n",
    "            self.is_reserved = True\n",
    "            print(\"Ticket reserved successfully.\")\n",
    "        else:\n",
    "            print(\"Ticket is already reserved.\")\n",
    "            \n",
    "\n",
    "    def cancel_reservation(self):\n",
    "        if self.is_reserved:\n",
    "            self.is_reserved = False\n",
    "            print(\"Reservation canceled successfully.\")\n",
    "        else:\n",
    "            print(\"Ticket is not reserved.\")\n",
    "            \n",
    "            \n",
    "\n",
    "    def display_ticket_info(self):\n",
    "        print(f\"Ticket ID: {self.ticket_id}\")\n",
    "        print(f\"Event Name: {self.event_name}\")\n",
    "        print(f\"Event Date: {self.event_date}\")\n",
    "        print(f\"Venue: {self.venue}\")\n",
    "        print(f\"Seat Number: {self.seat_number}\")\n",
    "        print(f\"Price: {self.price}\")\n",
    "        reservation_status = \"Reserved\" if self.is_reserved else \"Not Reserved\"\n",
    "        print(f\"Reservation Status: {reservation_status}\")\n",
    "\n",
    "# Creating an instance of the Ticket class\n",
    "ticket1 = Ticket(1, \"Concert\", \"2024-03-15\", \"City Arena\", \"D52\", 500,False)\n",
    "\n",
    "# Accessing attributes and methods of the Ticket instance\n",
    "ticket1.display_ticket_info()\n",
    "ticket1.reserve_ticket()\n",
    "ticket1.cancel_reservation()\n",
    "\n"
   ]
  },
  {
   "cell_type": "markdown",
   "id": "9a180710",
   "metadata": {},
   "source": [
    "####  9. You are creating a shopping cart for an e-commerce website. Using OOP to model the \"ShoppingCart\" functionality the class should contain following attributes and methods:\n",
    "a. items: Represents the list of items in the shopping cart.\n",
    "\n",
    "The class also includes the following methods:\n",
    "\n",
    "a. add_item(self, item): Adds an item to the shopping cart by appending it to the\n",
    "list of items.\n",
    "\n",
    "b. remove_item(self, item): Removes an item from the shopping cart if it exists in\n",
    "the list.\n",
    "\n",
    "c. view_cart(self): Displays the items currently present in the shopping cart.\n",
    "\n",
    "d. clear_cart(self): Clears all items from the shopping cart by reassigning an\n",
    "empty list to the items attribute.   "
   ]
  },
  {
   "cell_type": "code",
   "execution_count": 29,
   "id": "093a50e5",
   "metadata": {},
   "outputs": [
    {
     "name": "stdout",
     "output_type": "stream",
     "text": [
      "Laptop added to the shopping cart.\n",
      "Headphones added to the shopping cart.\n",
      "Items in the shopping cart:\n",
      "- Laptop\n",
      "- Headphones\n",
      "Laptop removed from the shopping cart.\n",
      "Items in the shopping cart:\n",
      "- Headphones\n",
      "Shopping cart cleared.\n",
      "The shopping cart is empty.\n"
     ]
    }
   ],
   "source": [
    "class ShoppingCart:\n",
    "    def __init__(self):\n",
    "        self.items = []\n",
    "\n",
    "    def add_item(self, item):\n",
    "        self.items.append(item)\n",
    "        print(f\"{item} added to the shopping cart.\")\n",
    "\n",
    "    def remove_item(self, item):\n",
    "        if item in self.items:\n",
    "            self.items.remove(item)\n",
    "            print(f\"{item} removed from the shopping cart.\")\n",
    "        else:\n",
    "            print(f\"{item} is not in the shopping cart.\")\n",
    "\n",
    "    def view_cart(self):\n",
    "        if self.items:\n",
    "            print(\"Items in the shopping cart:\")\n",
    "            for item in self.items:\n",
    "                print(f\"- {item}\")\n",
    "        else:\n",
    "            print(\"The shopping cart is empty.\")\n",
    "\n",
    "    def clear_cart(self):\n",
    "        self.items = []\n",
    "        print(\"Shopping cart cleared.\")\n",
    "\n",
    "\n",
    "        \n",
    "        \n",
    "cart = ShoppingCart()\n",
    "\n",
    "\n",
    "cart.add_item(\"Laptop\")\n",
    "cart.add_item(\"Headphones\")\n",
    "cart.view_cart()\n",
    "cart.remove_item(\"Laptop\")\n",
    "cart.view_cart()\n",
    "cart.clear_cart()\n",
    "cart.view_cart()\n"
   ]
  },
  {
   "cell_type": "markdown",
   "id": "49012a1c",
   "metadata": {},
   "source": [
    "#### 10. Imagine a school management system. You have to design the \"Student\" class using OOP concepts.The “Student” class has the following attributes:\n",
    "\n",
    "a. name: Represents the name of the student.\n",
    "\n",
    "b. age: Represents the age of the student.\n",
    "\n",
    "c. grade: Represents the grade or class of the student.\n",
    "\n",
    "d. student_id: Represents the unique identifier for the student.\n",
    "\n",
    "e. attendance: Represents the attendance record of the student.\n",
    "\n",
    "The class should also include the following methods:\n",
    "\n",
    "a. update_attendance(self, date, status): Updates the attendance record of the\n",
    "student for a given date with the provided status (e.g., present or absent).\n",
    "\n",
    "b. get_attendance(self): Returns the attendance record of the student.\n",
    "\n",
    "c. get_average_attendance(self): Calculates and returns the average\n",
    "attendance percentage of the student based on their attendance record."
   ]
  },
  {
   "cell_type": "code",
   "execution_count": 31,
   "id": "c563ccb0",
   "metadata": {},
   "outputs": [
    {
     "name": "stdout",
     "output_type": "stream",
     "text": [
      "Attendance for 01-03-2023 updated for Rahul Dias.\n",
      "Attendance for Rahul Dias: {'01-01-2023': 'present', '01-02-2023': 'absent', '01-03-2023': 'present'}\n",
      "Average attendance percentage: 66.66666666666666%\n"
     ]
    }
   ],
   "source": [
    "class Student:\n",
    "    def __init__(self, name, age, grade, student_id, attendance):\n",
    "        self.name = name\n",
    "        self.age = age\n",
    "        self.grade = grade\n",
    "        self.student_id = student_id\n",
    "        self.attendance = attendance\n",
    "\n",
    "    def update_attendance(self, date, status):\n",
    "        self.attendance[date] = status\n",
    "        print(f\"Attendance for {date} updated for {self.name}.\")\n",
    "\n",
    "    def get_attendance(self):\n",
    "        return self.attendance\n",
    "\n",
    "    def get_average_attendance(self):\n",
    "        total_present = 0\n",
    "        total_attendance = len(self.attendance)\n",
    "        for status in self.attendance.values():\n",
    "            if status == \"present\":\n",
    "                total_present += 1\n",
    "        return (total_present / total_attendance) * 100\n",
    "\n",
    "# Creating an instance of the Student class\n",
    "student1 = Student(\"Rahul Dias\", 55, \"10th Grade\", 12345, {\"01-01-2023\": \"present\", \"01-02-2023\": \"absent\"})\n",
    "\n",
    "student1.update_attendance(\"01-03-2023\", \"present\")\n",
    "attendance = student1.get_attendance()\n",
    "average_attendance = student1.get_average_attendance()\n",
    "print(f\"Attendance for {student1.name}: {attendance}\")\n",
    "print(f\"Average attendance percentage: {average_attendance}%\")\n"
   ]
  },
  {
   "cell_type": "code",
   "execution_count": null,
   "id": "9db39a29",
   "metadata": {},
   "outputs": [],
   "source": []
  },
  {
   "cell_type": "code",
   "execution_count": null,
   "id": "4109ab00",
   "metadata": {},
   "outputs": [],
   "source": []
  },
  {
   "cell_type": "code",
   "execution_count": null,
   "id": "3e154a76",
   "metadata": {},
   "outputs": [],
   "source": []
  },
  {
   "cell_type": "code",
   "execution_count": null,
   "id": "478c1fad",
   "metadata": {},
   "outputs": [],
   "source": []
  },
  {
   "cell_type": "markdown",
   "id": "e814cff3",
   "metadata": {},
   "source": []
  }
 ],
 "metadata": {
  "kernelspec": {
   "display_name": "Python 3 (ipykernel)",
   "language": "python",
   "name": "python3"
  },
  "language_info": {
   "codemirror_mode": {
    "name": "ipython",
    "version": 3
   },
   "file_extension": ".py",
   "mimetype": "text/x-python",
   "name": "python",
   "nbconvert_exporter": "python",
   "pygments_lexer": "ipython3",
   "version": "3.11.5"
  }
 },
 "nbformat": 4,
 "nbformat_minor": 5
}
