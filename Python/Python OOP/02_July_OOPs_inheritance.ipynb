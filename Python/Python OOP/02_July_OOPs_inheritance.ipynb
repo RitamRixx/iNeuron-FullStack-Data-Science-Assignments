{
 "cells": [
  {
   "cell_type": "markdown",
   "id": "5330c8b1",
   "metadata": {},
   "source": [
    "# 02_July_OOPs_inheritance"
   ]
  },
  {
   "cell_type": "markdown",
   "id": "f77a4d8f",
   "metadata": {},
   "source": [
    "#### 1. Explain what inheritance is in object-oriented programming and why it is used.\n",
    "\n",
    "**Ans:** In object-oriented programming, inheritance is a fundamental concept that allows a class to inherit attributes and methods from another class. When a class inherits from another, it gains access to the behaviors and data of the referenced class. The class that inherits is called a subclass or child class, while the class being inherited from is known as a parent class, superclass, or base class.\n",
    "\n",
    "The main purpose of inheritance in Object Orientated Programming (OOP) is to give the user ability to change the behavior of the libraries, without actually changing already working and debugged code."
   ]
  },
  {
   "cell_type": "markdown",
   "id": "5d5668e9",
   "metadata": {},
   "source": [
    "#### 2. Discuss the concept of single inheritance and multiple inheritance, highlighting their differences and advantages.\n",
    "\n",
    "**Ans:**\n",
    "\n",
    "<u>**Single Inheritance:**</u> In single inheritance, a derived class inherits from only one base class.The derived class accesses the features of a single base class.\n",
    "\n",
    "Example: An \"account class\" can be a base class, and a \"saving account class\" can inherit from it.\n",
    "\n",
    "**Advantages of Single Inheritance:**\n",
    "\n",
    "- **1.** Single inheritance leads to simpler class hierarchies because each subclass has a clear and direct relationship with its superclass.\n",
    "\n",
    "- **2.** With a linear hierarchy, it is easier to understand and maintain the codebase as changes or updates typically affect fewer classes.\n",
    "\n",
    "- **3.** Single inheritance promotes encapsulation by organizing classes into well-defined parent-child relationships, which can improve code readability and maintainability.\n",
    "\n",
    "\n",
    "\n",
    "<u>**Multiple Inheritance:**</u> In multiple inheritance, a derived class inherits from two or more base classes.The derived class accesses the combined features of all inherited base classes.\n",
    "\n",
    "Example: A class can inherit from both a \"vehicle class\" and a \"fuel type class\" to combine features.\n",
    "\n",
    "**Advantages of Multiple Inheritance:**\n",
    "\n",
    "- **1.** Multiple inheritance enables more extensive code reuse by allowing a subclass to inherit from multiple sources, incorporating diverse functionality into a single class.\n",
    "\n",
    "- **2.**  Multiple inheritance offers greater flexibility in designing class hierarchies, as it allows developers to combine and reuse functionality from different classes.\n",
    "\n",
    "- **3.** Multiple inheritance facilitates polymorphism by allowing objects to exhibit behaviors from multiple parent classes, leading to more versatile and adaptable object-oriented designs.\n",
    "\n",
    "<u>**Key Differences:**</u>\n",
    "\n",
    "- **Basic:** Single inheritance involves one base class, while multiple inheritance involves two or more base classes.\n",
    "\n",
    "- **Implementation:** Single inheritance is simpler and requires less runtime overhead, while multiple inheritance is more complex.\n",
    "\n",
    "- **Constructs:** Single inheritance forms an inheritance tree, while multiple inheritance forms a Directed Acyclic Graph (DAG)."
   ]
  },
  {
   "cell_type": "markdown",
   "id": "a4b5f09c",
   "metadata": {},
   "source": [
    "#### 3. Explain the terms \"base class\" and \"derived class\" in the context of inheritance.\n",
    "\n",
    "**Ans:**\n",
    "\n",
    "<u>**Base Class:**</u> A base class is a class from which other classes are derived. It serves as the foundation for derived classes.\n",
    "\n",
    "Example: In a hierarchy where \"Animal\" is a base class, \"Mammal\" and \"Reptile\" can be derived classes inheriting from it.\n",
    "\n",
    "<u>**Derived Class:**</u> A derived class, also known as a child class or subclass, is created from an existing class.\n",
    "\n",
    "Example: If \"Vehicle\" is a base class, \"Car\" can be a derived class inheriting features like speed or fuel capacity."
   ]
  },
  {
   "cell_type": "markdown",
   "id": "3c61195f",
   "metadata": {},
   "source": [
    "#### 4. What is the significance of the \"protected\" access modifier in inheritance? How does it differ from \"private\" and \"public\" modifiers?\n",
    "\n",
    "**Ans:** Protected Access Modifier allows access to the member within the class and its subclasses (derived classes).It provides a way for derived classes to access and manipulate inherited members.\n",
    "\n",
    "The \"protected\" access modifier in inheritance allows derived classes to access and manipulate inherited members, providing a balance between encapsulation and extensibility. It differs from \"private\" by allowing access in derived classes and from \"public\" by restricting visibility to the class hierarchy."
   ]
  },
  {
   "cell_type": "markdown",
   "id": "6b850ad2",
   "metadata": {},
   "source": [
    "#### 5. What is the purpose of the \"super\" keyword in inheritance? Provide an example.\n",
    "\n",
    "**Ans:** The \"super\" keyword in inheritance in Python serves the purpose of allowing access to methods and properties of a parent class from a child class. It provides a convenient way to call methods of the base class without explicitly naming the base class itself."
   ]
  },
  {
   "cell_type": "code",
   "execution_count": 1,
   "id": "71263fb6",
   "metadata": {},
   "outputs": [
    {
     "name": "stdout",
     "output_type": "stream",
     "text": [
      "Hello, and welcome!\n",
      "Additional message\n"
     ]
    }
   ],
   "source": [
    "class Parent:\n",
    "    def __init__(self, txt):\n",
    "        self.message = txt\n",
    "\n",
    "    def print_message(self):\n",
    "        print(self.message)\n",
    "\n",
    "class Child(Parent):\n",
    "    def __init__(self, txt):\n",
    "        super().__init__(txt)  # Using super() to call the base class constructor\n",
    "        self.additional_message = \"Additional message\"\n",
    "\n",
    "    def print_additional_message(self):\n",
    "        print(self.additional_message)\n",
    "\n",
    "child_obj = Child(\"Hello, and welcome!\")\n",
    "\n",
    "child_obj.print_message()\n",
    "child_obj.print_additional_message()"
   ]
  },
  {
   "cell_type": "markdown",
   "id": "0acc19f8",
   "metadata": {},
   "source": [
    "#### 6. Create a base class called \"Vehicle\" with attributes like \"make\", \"model\", and \"year\".Then, create a derived class called \"Car\" that inherits from \"Vehicle\" and adds an attribute called \"fuel_type\". Implement appropriate methods in both classes."
   ]
  },
  {
   "cell_type": "code",
   "execution_count": 1,
   "id": "9549c6e2",
   "metadata": {},
   "outputs": [
    {
     "name": "stdout",
     "output_type": "stream",
     "text": [
      "Make: Toyota, Model: Camry, Year: 2022\n",
      "Fuel Type: Gasoline\n"
     ]
    }
   ],
   "source": [
    "class Vehicle:\n",
    "    def __init__(self, make, model, year):\n",
    "        self.make = make\n",
    "        self.model = model\n",
    "        self.year = year\n",
    "\n",
    "    def display_info(self):\n",
    "        print(f\"Make: {self.make}, Model: {self.model}, Year: {self.year}\")\n",
    "\n",
    "class Car(Vehicle):\n",
    "    def __init__(self, make, model, year, fuel_type):\n",
    "        super().__init__(make, model, year)\n",
    "        self.fuel_type = fuel_type\n",
    "\n",
    "    def display_info(self):\n",
    "        super().display_info()\n",
    "        print(f\"Fuel Type: {self.fuel_type}\")\n",
    "\n",
    "\n",
    "my_car = Car(\"Toyota\", \"Camry\", 2022, \"Gasoline\")\n",
    "\n",
    "my_car.display_info()\n"
   ]
  },
  {
   "cell_type": "markdown",
   "id": "361e90d3",
   "metadata": {},
   "source": [
    "#### 7. Create a base class called \"Employee\" with attributes like \"name\" and \"salary.\" Derive two classes, \"Manager\" and \"Developer,\" from \"Employee.\" Add an additional attribute called \"department\" for the \"Manager\" class and \"programming_language\" for the \"Developer\" class."
   ]
  },
  {
   "cell_type": "code",
   "execution_count": 2,
   "id": "ce0bf078",
   "metadata": {},
   "outputs": [
    {
     "name": "stdout",
     "output_type": "stream",
     "text": [
      "Manager Information:\n",
      "Name: Alice, Salary: 80000, Department: Engineering\n",
      "\n",
      "Developer Information:\n",
      "Name: Bob, Salary: 60000, Programming Language: Python\n"
     ]
    }
   ],
   "source": [
    "class Employee:\n",
    "    def __init__(self, name, salary):\n",
    "        self.name = name\n",
    "        self.salary = salary\n",
    "\n",
    "class Manager(Employee):\n",
    "    def __init__(self, name, salary, department):\n",
    "        super().__init__(name, salary)\n",
    "        self.department = department\n",
    "\n",
    "class Developer(Employee):\n",
    "    def __init__(self, name, salary, programming_language):\n",
    "        super().__init__(name, salary)\n",
    "        self.programming_language = programming_language\n",
    "\n",
    "manager = Manager(\"Alice\", 80000, \"Engineering\")\n",
    "developer = Developer(\"Bob\", 60000, \"Python\")\n",
    "\n",
    "print(\"Manager Information:\")\n",
    "print(f\"Name: {manager.name}, Salary: {manager.salary}, Department: {manager.department}\")\n",
    "\n",
    "print(\"\\nDeveloper Information:\")\n",
    "print(f\"Name: {developer.name}, Salary: {developer.salary}, Programming Language: {developer.programming_language}\")\n"
   ]
  },
  {
   "cell_type": "markdown",
   "id": "a8c2d1d7",
   "metadata": {},
   "source": [
    "#### 8. Design a base class called \"Shape\" with attributes like \"colour\" and \"border_width.\" Create derived classes, \"Rectangle\" and \"Circle,\" that inherit from \"Shape\" and add specific attributes like \"length\" and \"width\" for the \"Rectangle\" class and \"radius\" for the \"Circle\" class."
   ]
  },
  {
   "cell_type": "code",
   "execution_count": 3,
   "id": "79ffe976",
   "metadata": {},
   "outputs": [
    {
     "name": "stdout",
     "output_type": "stream",
     "text": [
      "Rectangle Information:\n",
      "Colour: Blue, Border Width: 2, Length: 10, Width: 5\n",
      "\n",
      "Circle Information:\n",
      "Colour: Red, Border Width: 1, Radius: 7\n"
     ]
    }
   ],
   "source": [
    "class Shape:\n",
    "    def __init__(self, colour, border_width):\n",
    "        self.colour = colour\n",
    "        self.border_width = border_width\n",
    "\n",
    "class Rectangle(Shape):\n",
    "    def __init__(self, colour, border_width, length, width):\n",
    "        super().__init__(colour, border_width)\n",
    "        self.length = length\n",
    "        self.width = width\n",
    "\n",
    "class Circle(Shape):\n",
    "    def __init__(self, colour, border_width, radius):\n",
    "        super().__init__(colour, border_width)\n",
    "        self.radius = radius\n",
    "\n",
    "rectangle = Rectangle(\"Blue\", 2, 10, 5)\n",
    "circle = Circle(\"Red\", 1, 7)\n",
    "\n",
    "print(\"Rectangle Information:\")\n",
    "print(f\"Colour: {rectangle.colour}, Border Width: {rectangle.border_width}, Length: {rectangle.length}, Width: {rectangle.width}\")\n",
    "\n",
    "print(\"\\nCircle Information:\")\n",
    "print(f\"Colour: {circle.colour}, Border Width: {circle.border_width}, Radius: {circle.radius}\")\n"
   ]
  },
  {
   "cell_type": "markdown",
   "id": "ade4acf7",
   "metadata": {},
   "source": [
    "#### 9. Create a base class called \"Device\" with attributes like \"brand\" and \"model.\" Derive two classes, \"Phone\" and \"Tablet,\" from \"Device.\" Add specific attributes like \"screen_size\" for the \"Phone\" class and \"battery_capacity\" for the \"Tablet\" class."
   ]
  },
  {
   "cell_type": "code",
   "execution_count": 4,
   "id": "cefaf72b",
   "metadata": {},
   "outputs": [
    {
     "name": "stdout",
     "output_type": "stream",
     "text": [
      "Phone Information:\n",
      "Brand: Apple, Model: iPhone 12, Screen Size: 6.1 inches\n",
      "\n",
      "Tablet Information:\n",
      "Brand: Samsung, Model: Galaxy Tab S7, Battery Capacity: 8000 mAh\n"
     ]
    }
   ],
   "source": [
    "\n",
    "class Device:\n",
    "    def __init__(self, brand, model):\n",
    "        self.brand = brand\n",
    "        self.model = model\n",
    "\n",
    "class Phone(Device):\n",
    "    def __init__(self, brand, model, screen_size):\n",
    "        super().__init__(brand, model)\n",
    "        self.screen_size = screen_size\n",
    "\n",
    "class Tablet(Device):\n",
    "    def __init__(self, brand, model, battery_capacity):\n",
    "        super().__init__(brand, model)\n",
    "        self.battery_capacity = battery_capacity\n",
    "\n",
    "phone = Phone(\"Apple\", \"iPhone 12\", 6.1)\n",
    "tablet = Tablet(\"Samsung\", \"Galaxy Tab S7\", \"8000 mAh\")\n",
    "\n",
    "print(\"Phone Information:\")\n",
    "print(f\"Brand: {phone.brand}, Model: {phone.model}, Screen Size: {phone.screen_size} inches\")\n",
    "\n",
    "print(\"\\nTablet Information:\")\n",
    "print(f\"Brand: {tablet.brand}, Model: {tablet.model}, Battery Capacity: {tablet.battery_capacity}\")\n"
   ]
  },
  {
   "cell_type": "markdown",
   "id": "f2e7aca8",
   "metadata": {},
   "source": [
    "#### 10. Create a base class called \"BankAccount\" with attributes like \"account_number\" and \"balance.\" Derive two classes, \"SavingsAccount\" and \"CheckingAccount,\" from \"BankAccount.\" Add specific methods like \"calculate_interest\" for the \"SavingsAccount\" class and \"deduct_fees\" for the \"CheckingAccount\" class."
   ]
  },
  {
   "cell_type": "code",
   "execution_count": 5,
   "id": "d1279b71",
   "metadata": {},
   "outputs": [
    {
     "name": "stdout",
     "output_type": "stream",
     "text": [
      "Savings Account Information:\n",
      "Account Number: SA123456, Balance: $5250.0\n",
      "Interest Earned: $250.0\n",
      "\n",
      "Checking Account Information:\n",
      "Account Number: CA987654, Balance: $2980\n",
      "Fees Deducted: $20\n"
     ]
    }
   ],
   "source": [
    "class BankAccount:\n",
    "    def __init__(self, account_number, balance):\n",
    "        self.account_number = account_number\n",
    "        self.balance = balance\n",
    "\n",
    "class SavingsAccount(BankAccount):\n",
    "    def calculate_interest(self, interest_rate):\n",
    "        interest = self.balance * interest_rate\n",
    "        self.balance += interest\n",
    "        return interest\n",
    "\n",
    "class CheckingAccount(BankAccount):\n",
    "    def deduct_fees(self, fee_amount):\n",
    "        self.balance -= fee_amount\n",
    "        return fee_amount\n",
    "\n",
    "savings_acc = SavingsAccount(\"SA123456\", 5000)\n",
    "checking_acc = CheckingAccount(\"CA987654\", 3000)\n",
    "\n",
    "interest_earned = savings_acc.calculate_interest(0.05)\n",
    "fee_deducted = checking_acc.deduct_fees(20)\n",
    "\n",
    "print(\"Savings Account Information:\")\n",
    "print(f\"Account Number: {savings_acc.account_number}, Balance: ${savings_acc.balance}\")\n",
    "print(f\"Interest Earned: ${interest_earned}\")\n",
    "\n",
    "print(\"\\nChecking Account Information:\")\n",
    "print(f\"Account Number: {checking_acc.account_number}, Balance: ${checking_acc.balance}\")\n",
    "print(f\"Fees Deducted: ${fee_deducted}\")\n"
   ]
  }
 ],
 "metadata": {
  "kernelspec": {
   "display_name": "Python 3 (ipykernel)",
   "language": "python",
   "name": "python3"
  },
  "language_info": {
   "codemirror_mode": {
    "name": "ipython",
    "version": 3
   },
   "file_extension": ".py",
   "mimetype": "text/x-python",
   "name": "python",
   "nbconvert_exporter": "python",
   "pygments_lexer": "ipython3",
   "version": "3.11.5"
  }
 },
 "nbformat": 4,
 "nbformat_minor": 5
}
