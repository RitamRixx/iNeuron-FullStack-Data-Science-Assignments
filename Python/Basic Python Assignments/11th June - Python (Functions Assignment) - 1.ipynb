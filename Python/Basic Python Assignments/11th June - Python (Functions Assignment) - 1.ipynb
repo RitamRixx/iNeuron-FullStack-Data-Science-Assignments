{
 "cells": [
  {
   "cell_type": "markdown",
   "id": "82051559",
   "metadata": {},
   "source": [
    "# 11th June - Python (Functions Assignment) - 1"
   ]
  },
  {
   "cell_type": "markdown",
   "id": "eca6c8e3",
   "metadata": {},
   "source": [
    "#### 1. What is a lambda function in Python, and how does it differ from a regular function?"
   ]
  },
  {
   "cell_type": "markdown",
   "id": "cfc400a9",
   "metadata": {},
   "source": [
    "**Ans.** Lambda function/expression is a small, inline, and anonymous function that can have any number of arguments but can only have one expression."
   ]
  },
  {
   "cell_type": "markdown",
   "id": "585af737",
   "metadata": {},
   "source": [
    "##### Lambda function is different from a regular function-"
   ]
  },
  {
   "cell_type": "markdown",
   "id": "62f6c7c8",
   "metadata": {},
   "source": [
    "Lambda functions are anonymous, meaning they don't have a name like regular functions defined with the def keyword. They are defined and used in a single line without a name.It can only contain a single expression, which is evaluated and returned when the lambda function is called. In contrast, regular functions can contain multiple statements and have a more complex structure."
   ]
  },
  {
   "cell_type": "markdown",
   "id": "73f1afa3",
   "metadata": {},
   "source": [
    "#### 2.Can a lambda function in Python have multiple arguments? If yes, how can you define and use them?"
   ]
  },
  {
   "cell_type": "markdown",
   "id": "15368472",
   "metadata": {},
   "source": [
    "**Ans.** Yes, a lambda function in Python can have multiple arguments.\n",
    "\n",
    "Here's an example with multiple arguments:"
   ]
  },
  {
   "cell_type": "code",
   "execution_count": 1,
   "id": "c98b3241",
   "metadata": {},
   "outputs": [
    {
     "name": "stdout",
     "output_type": "stream",
     "text": [
      "24\n"
     ]
    }
   ],
   "source": [
    "multiply = lambda x, y, z: x * y * z\n",
    "\n",
    "result = multiply(2, 3, 4)\n",
    "print(result)"
   ]
  },
  {
   "cell_type": "markdown",
   "id": "78ffd50d",
   "metadata": {},
   "source": [
    "#### 3.How are lambda functions typically used in Python? Provide an example use case."
   ]
  },
  {
   "cell_type": "markdown",
   "id": "5d115908",
   "metadata": {},
   "source": [
    "**Ans.** Lambda functions in Python are often used for short, simple operations where a full function definition using the def keyword might be unnecessarily verbose. They are commonly employed in situations where a small, anonymous function is required for a short period of time."
   ]
  },
  {
   "cell_type": "code",
   "execution_count": 2,
   "id": "f445077c",
   "metadata": {},
   "outputs": [
    {
     "name": "stdout",
     "output_type": "stream",
     "text": [
      "[(4, 1), (2, 2), (1, 4), (3, 6)]\n"
     ]
    }
   ],
   "source": [
    "# Using lambda with sorted to sort a list of tuples based on the second element\n",
    "pairs = [(1, 4), (2, 2), (3, 6), (4, 1)]\n",
    "sorted_pairs = sorted(pairs, key=lambda x: x[1])\n",
    "\n",
    "print(sorted_pairs)"
   ]
  },
  {
   "cell_type": "markdown",
   "id": "3f801216",
   "metadata": {},
   "source": [
    "#### 4. What are the advantages and limitations of lambda functions compared to regular functions in Python?"
   ]
  },
  {
   "cell_type": "markdown",
   "id": "993eefa1",
   "metadata": {},
   "source": [
    "**Ans.** \n",
    "*Advantages of Lambda Functions:*\n",
    "\n",
    "1.Lambda functions are concise and can be defined in a single line. This makes them useful for short, simple operations\n",
    "\n",
    "2.Lambda functions can be more readable in situations where the function logic is straightforward, and the use of a lambda function is idiomatic and well-understood by the reader.\n",
    "\n",
    "3.Lambda functions are often used in functional programming constructs like map(), filter(), and sorted(). They are a natural fit for these scenarios where a simple, anonymous function is needed."
   ]
  },
  {
   "cell_type": "markdown",
   "id": "96905eea",
   "metadata": {},
   "source": [
    "*Limitations of Lambda Functions:*\n",
    "\n",
    "1.Lambda functions are limited in terms of functionality compared to regular functions.\n",
    "\n",
    "2.Lambda functions don't support docstrings, making it more challenging to provide documentation for the function's purpose and usage.\n",
    "\n",
    "3.For more complex operations, lambda functions may reduce code readability."
   ]
  },
  {
   "cell_type": "markdown",
   "id": "2760870d",
   "metadata": {},
   "source": [
    "#### 5.Are lambda functions in Python able to access variables defined outside of their own scope? Explain with an example."
   ]
  },
  {
   "cell_type": "markdown",
   "id": "df92f9a4",
   "metadata": {},
   "source": [
    "**Ans.** Yes, lambda functions in Python can access variables defined outside of their own scope. This is because lambda functions have access to the variables in the enclosing scope in which they are defined. This behavior is known as lexical scoping.\n",
    "\n"
   ]
  },
  {
   "cell_type": "code",
   "execution_count": 3,
   "id": "54f64302",
   "metadata": {},
   "outputs": [
    {
     "name": "stdout",
     "output_type": "stream",
     "text": [
      "15\n"
     ]
    }
   ],
   "source": [
    "# Variable defined in the outer scope\n",
    "outside_variable = 10\n",
    "\n",
    "# Lambda function accessing the outside_variable\n",
    "lambda_function = lambda x: x + outside_variable\n",
    "\n",
    "# Using the lambda function\n",
    "result = lambda_function(5)\n",
    "\n",
    "# Printing the result\n",
    "print(result)"
   ]
  },
  {
   "cell_type": "markdown",
   "id": "ba32ca0e",
   "metadata": {},
   "source": [
    "#### 6. Write a lambda function to calculate the square of a given number."
   ]
  },
  {
   "cell_type": "code",
   "execution_count": 4,
   "id": "0d54eabf",
   "metadata": {},
   "outputs": [],
   "source": [
    "square = lambda x: x**2"
   ]
  },
  {
   "cell_type": "code",
   "execution_count": 5,
   "id": "c8f8eef7",
   "metadata": {},
   "outputs": [
    {
     "name": "stdout",
     "output_type": "stream",
     "text": [
      "16\n"
     ]
    }
   ],
   "source": [
    "result = square(4)\n",
    "print(result)"
   ]
  },
  {
   "cell_type": "markdown",
   "id": "8535a8c2",
   "metadata": {},
   "source": [
    "#### 7. Create a lambda function to find the maximum value in a list of integers."
   ]
  },
  {
   "cell_type": "code",
   "execution_count": 6,
   "id": "d55466b9",
   "metadata": {},
   "outputs": [],
   "source": [
    "find_max = lambda lst: max(lst)"
   ]
  },
  {
   "cell_type": "code",
   "execution_count": 7,
   "id": "45431142",
   "metadata": {},
   "outputs": [
    {
     "name": "stdout",
     "output_type": "stream",
     "text": [
      "8\n"
     ]
    }
   ],
   "source": [
    "numbers = [3, 7, 2, 8, 5]\n",
    "max_value = find_max(numbers)\n",
    "print(max_value)"
   ]
  },
  {
   "cell_type": "markdown",
   "id": "7412ecf6",
   "metadata": {},
   "source": [
    "#### 8. Implement a lambda function to filter out all the even numbers from a list of integers. "
   ]
  },
  {
   "cell_type": "code",
   "execution_count": 8,
   "id": "d4a506b4",
   "metadata": {},
   "outputs": [
    {
     "name": "stdout",
     "output_type": "stream",
     "text": [
      "[1, 3, 5, 7, 9]\n"
     ]
    }
   ],
   "source": [
    "numbers = [1, 2, 3, 4, 5, 6, 7, 8, 9, 10]\n",
    "\n",
    "filter_even = lambda x: x % 2 != 0\n",
    "filtered_numbers = list(filter(filter_even, numbers))\n",
    "\n",
    "print(filtered_numbers)"
   ]
  },
  {
   "cell_type": "markdown",
   "id": "ef40df84",
   "metadata": {},
   "source": [
    "#### 9.Write a lambda function to sort a list of strings in ascending order based on the length of each string."
   ]
  },
  {
   "cell_type": "code",
   "execution_count": 1,
   "id": "891670f5",
   "metadata": {},
   "outputs": [
    {
     "name": "stdout",
     "output_type": "stream",
     "text": [
      "['kiwi', 'apple', 'grape', 'banana', 'orange']\n"
     ]
    }
   ],
   "source": [
    "strings = [\"apple\",\"banana\",\"kiwi\",\"orange\",\"grape\"]\n",
    "\n",
    "sort_by_length = lambda s: len(s)\n",
    "\n",
    "sorted_strings = sorted(strings,key = sort_by_length)\n",
    "print(sorted_strings)"
   ]
  },
  {
   "cell_type": "markdown",
   "id": "5bff7053",
   "metadata": {},
   "source": [
    "#### 10. Create a lambda function that takes two lists as input and returns a new list containing the common elements between the two lists."
   ]
  },
  {
   "cell_type": "code",
   "execution_count": 2,
   "id": "5bb696cf",
   "metadata": {},
   "outputs": [
    {
     "name": "stdout",
     "output_type": "stream",
     "text": [
      "[3, 4, 5]\n"
     ]
    }
   ],
   "source": [
    "list1 = [1,2,3,4,5]\n",
    "list2 = [3,4,5,6,7]\n",
    "\n",
    "common_elements = lambda x, y: list(filter(lambda e1: e1 in x, y))\n",
    "\n",
    "result = common_elements(list1, list2)\n",
    "\n",
    "print(result)"
   ]
  },
  {
   "cell_type": "markdown",
   "id": "e3c5595d",
   "metadata": {},
   "source": [
    "#### 11. Write a recursive function to calculate the factorial of a given positive integer."
   ]
  },
  {
   "cell_type": "code",
   "execution_count": 4,
   "id": "f84debba",
   "metadata": {},
   "outputs": [
    {
     "name": "stdout",
     "output_type": "stream",
     "text": [
      "Factorial of 5:  120\n"
     ]
    }
   ],
   "source": [
    "def factorial(n):\n",
    "    \n",
    "    if n <= 1:\n",
    "        return 1\n",
    "    else:\n",
    "        return n * factorial(n-1)\n",
    "    \n",
    "result = factorial(5)\n",
    "print(\"Factorial of 5: \",result)"
   ]
  },
  {
   "cell_type": "markdown",
   "id": "b29d3f6d",
   "metadata": {},
   "source": [
    "#### 12. Implement a recursive function to compute the nth Fibonacci number."
   ]
  },
  {
   "cell_type": "code",
   "execution_count": 12,
   "id": "4e1f23ab",
   "metadata": {},
   "outputs": [
    {
     "name": "stdout",
     "output_type": "stream",
     "text": [
      "5th Fibonacci number 13\n"
     ]
    }
   ],
   "source": [
    "def fibonacci(n):\n",
    "    \n",
    "    if n == 0:\n",
    "        return 0\n",
    "    elif n == 1:\n",
    "        return 1\n",
    "    else:\n",
    "        return fibonacci(n-1) + fibonacci(n-2)\n",
    "    \n",
    "result = fibonacci(7)\n",
    "print(\"5th Fibonacci number\",result)"
   ]
  },
  {
   "cell_type": "markdown",
   "id": "eb10cfcd",
   "metadata": {},
   "source": [
    "#### 13. Create a recursive function to find the sum of all the elements in a given list."
   ]
  },
  {
   "cell_type": "code",
   "execution_count": 19,
   "id": "8550cbf3",
   "metadata": {},
   "outputs": [
    {
     "name": "stdout",
     "output_type": "stream",
     "text": [
      "Sum of the elements in the list 15\n"
     ]
    }
   ],
   "source": [
    "def sum_list(lst):\n",
    "    if not lst:\n",
    "        return 0\n",
    "    else:\n",
    "        return lst[0] + sum_list(lst[1:])\n",
    "    \n",
    "my_list = [1,2,3,4,5]\n",
    "result = sum_list(my_list)\n",
    "print(\"Sum of the elements in the list\",result)\n"
   ]
  },
  {
   "cell_type": "markdown",
   "id": "3e4301ed",
   "metadata": {},
   "source": [
    "#### 14.Write a recursive function to determine whether a given string is a palindrome."
   ]
  },
  {
   "cell_type": "code",
   "execution_count": 23,
   "id": "d4b01f9b",
   "metadata": {},
   "outputs": [
    {
     "name": "stdout",
     "output_type": "stream",
     "text": [
      "Is'madam' a palindrome? True\n"
     ]
    }
   ],
   "source": [
    "def palindrome(s):\n",
    "    if len(s) <= 1:\n",
    "        return True\n",
    "    else:\n",
    "        return s[0] == s[-1] and palindrome(s[1:-1])\n",
    "\n",
    "my_string = \"madam\"\n",
    "result = palindrome(my_string)\n",
    "print(f\"Is'{my_string}' a palindrome? {result}\")"
   ]
  },
  {
   "cell_type": "markdown",
   "id": "32416c74",
   "metadata": {},
   "source": [
    "#### 15. Implement a recursive function to find the greatest common divisor (GCD) of two positive integers."
   ]
  },
  {
   "cell_type": "code",
   "execution_count": 26,
   "id": "886e2a36",
   "metadata": {},
   "outputs": [
    {
     "name": "stdout",
     "output_type": "stream",
     "text": [
      "GCD of 10 and 5 is: 5\n"
     ]
    }
   ],
   "source": [
    "def gcd(a,b):\n",
    "    \n",
    "    if b == 0:\n",
    "        return a\n",
    "    else:\n",
    "        return gcd(b, a%b)\n",
    "\n",
    "num1 = 10\n",
    "num2 = 5\n",
    "result = gcd(num1,num2)\n",
    "print(f\"GCD of {num1} and {num2} is:\",result)"
   ]
  }
 ],
 "metadata": {
  "kernelspec": {
   "display_name": "Python 3 (ipykernel)",
   "language": "python",
   "name": "python3"
  },
  "language_info": {
   "codemirror_mode": {
    "name": "ipython",
    "version": 3
   },
   "file_extension": ".py",
   "mimetype": "text/x-python",
   "name": "python",
   "nbconvert_exporter": "python",
   "pygments_lexer": "ipython3",
   "version": "3.9.7"
  }
 },
 "nbformat": 4,
 "nbformat_minor": 5
}
