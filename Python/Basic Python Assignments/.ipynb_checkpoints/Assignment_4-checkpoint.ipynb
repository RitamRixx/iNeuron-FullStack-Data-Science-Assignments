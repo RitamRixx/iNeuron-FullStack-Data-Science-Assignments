{
 "cells": [
  {
   "cell_type": "markdown",
   "id": "300b6330",
   "metadata": {},
   "source": [
    "# Assignment 4 Solutions"
   ]
  },
  {
   "cell_type": "markdown",
   "id": "db3d0f29",
   "metadata": {},
   "source": [
    "#### 1. What exactly is [ ]?\n",
    "**Ans:** The empty list represented by [] is a list that contains no items."
   ]
  },
  {
   "cell_type": "markdown",
   "id": "c8ab00ae",
   "metadata": {},
   "source": [
    "#### 2. In a list of values stored in a variable called spam, how would you assign the value 'hello' as the third value? (Assume [2, 4, 6, 8, 10] are in spam.)"
   ]
  },
  {
   "cell_type": "code",
   "execution_count": 1,
   "id": "c1fd7cc6",
   "metadata": {},
   "outputs": [
    {
     "name": "stdout",
     "output_type": "stream",
     "text": [
      "[2, 4, 6, 8, 10]\n",
      "[2, 4, 'hello', 8, 10]\n"
     ]
    }
   ],
   "source": [
    "spam = [2,4,6,8,10]\n",
    "print(spam)\n",
    "spam[2] = 'hello'\n",
    "print(spam)"
   ]
  },
  {
   "cell_type": "markdown",
   "id": "1e68b5ff",
   "metadata": {},
   "source": [
    "### Let's pretend the spam includes the list ['a', 'b', 'c', 'd'] for the next three queries."
   ]
  },
  {
   "cell_type": "markdown",
   "id": "5a511878",
   "metadata": {},
   "source": [
    "#### 3. What is the value of spam[int(int('3' * 2) / 11)]?"
   ]
  },
  {
   "cell_type": "code",
   "execution_count": 2,
   "id": "971783d7",
   "metadata": {},
   "outputs": [
    {
     "name": "stdout",
     "output_type": "stream",
     "text": [
      "d\n"
     ]
    }
   ],
   "source": [
    "spam = ['a','b','c','d']\n",
    "print(spam[int(int('3' * 2) / 11)])"
   ]
  },
  {
   "cell_type": "markdown",
   "id": "f7d70fce",
   "metadata": {},
   "source": [
    "#### 4. What is the value of spam[-1]?"
   ]
  },
  {
   "cell_type": "code",
   "execution_count": 3,
   "id": "e348f238",
   "metadata": {},
   "outputs": [
    {
     "name": "stdout",
     "output_type": "stream",
     "text": [
      "d\n"
     ]
    }
   ],
   "source": [
    "spam = ['a','b','c','d']\n",
    "print(spam[-1])"
   ]
  },
  {
   "cell_type": "markdown",
   "id": "d5ede8f0",
   "metadata": {},
   "source": [
    "#### 5. What is the value of spam[:2]?"
   ]
  },
  {
   "cell_type": "code",
   "execution_count": 5,
   "id": "1acb93c6",
   "metadata": {},
   "outputs": [
    {
     "name": "stdout",
     "output_type": "stream",
     "text": [
      "['a', 'b']\n"
     ]
    }
   ],
   "source": [
    "spam = ['a','b','c','d']\n",
    "print(spam[:2])"
   ]
  },
  {
   "cell_type": "markdown",
   "id": "4a4addf8",
   "metadata": {},
   "source": [
    "### Let's pretend bacon has the list [3.14, 'cat,' 11, 'cat,' True] for the next three questions."
   ]
  },
  {
   "cell_type": "markdown",
   "id": "ae22846f",
   "metadata": {},
   "source": [
    "#### 6. What is the value of bacon.index('cat')?"
   ]
  },
  {
   "cell_type": "code",
   "execution_count": 6,
   "id": "a36db2f8",
   "metadata": {},
   "outputs": [
    {
     "name": "stdout",
     "output_type": "stream",
     "text": [
      "1\n"
     ]
    }
   ],
   "source": [
    "bacon = [3.4,'cat',11,'cat',True]\n",
    "print(bacon.index('cat'))"
   ]
  },
  {
   "cell_type": "markdown",
   "id": "d85dcdc5",
   "metadata": {},
   "source": [
    "#### 7. How does bacon.append(99) change the look of the list value in bacon?"
   ]
  },
  {
   "cell_type": "code",
   "execution_count": 8,
   "id": "4f53bcfc",
   "metadata": {},
   "outputs": [
    {
     "name": "stdout",
     "output_type": "stream",
     "text": [
      "[3.4, 'cat', 11, 'cat', True, 99]\n"
     ]
    }
   ],
   "source": [
    "bacon = [3.4,'cat',11,'cat',True]\n",
    "bacon.append(99)\n",
    "print(bacon)"
   ]
  },
  {
   "cell_type": "markdown",
   "id": "e870eeaf",
   "metadata": {},
   "source": [
    "#### 8. How does bacon.remove('cat') change the look of the list in bacon?"
   ]
  },
  {
   "cell_type": "code",
   "execution_count": 9,
   "id": "7bf074d3",
   "metadata": {},
   "outputs": [
    {
     "name": "stdout",
     "output_type": "stream",
     "text": [
      "[3.4, 11, 'cat', True]\n"
     ]
    }
   ],
   "source": [
    "bacon = [3.4,'cat',11,'cat',True]\n",
    "bacon.remove('cat')\n",
    "print(bacon)"
   ]
  },
  {
   "cell_type": "markdown",
   "id": "543899c1",
   "metadata": {},
   "source": [
    "#### 9. What are the list concatenation and list replication operators?\n",
    "**Ans:** The operator for list concatenation is +, while the operator for replication is *. This is the same as for strings."
   ]
  },
  {
   "cell_type": "markdown",
   "id": "c0c1956a",
   "metadata": {},
   "source": [
    "#### 10. What is difference between the list methods append() and insert()?\n",
    "**Ans:** While append() will add values only to the end of a list, insert() can add them anywhere in the list."
   ]
  },
  {
   "cell_type": "code",
   "execution_count": 10,
   "id": "c5033ba2",
   "metadata": {},
   "outputs": [
    {
     "name": "stdout",
     "output_type": "stream",
     "text": [
      "[1, 2, 3, 4, 5, 6]\n",
      "[1, 2, 'iNeuron', 3, 4, 5, 6]\n"
     ]
    }
   ],
   "source": [
    "list = [1,2,3,4,5]\n",
    "list.append(6)\n",
    "print(list)\n",
    "list.insert(2,'iNeuron')\n",
    "print(list)"
   ]
  },
  {
   "cell_type": "markdown",
   "id": "1cd646bb",
   "metadata": {},
   "source": [
    "#### 11. What are the two methods for removing items from a list?\n",
    "**Ans:** The del statement and the remove() method are two ways to remove values from a list"
   ]
  },
  {
   "cell_type": "markdown",
   "id": "224d94ba",
   "metadata": {},
   "source": [
    "#### 12. Describe how list values and string values are identical.\n",
    "**Ans:** Both lists and strings represent sequential data, meaning they are ordered collections of elements. Both lists and strings allow you to access individual elements by their index."
   ]
  },
  {
   "cell_type": "markdown",
   "id": "354b85f7",
   "metadata": {},
   "source": [
    "#### 13. What's the difference between tuples and lists?\n",
    "**Ans:** Tuples are immutable, have a specific syntax using parentheses, and are commonly used for collections of related values. Lists are mutable, have a syntax using square brackets, and are used when you need a collection of items that can be modified."
   ]
  },
  {
   "cell_type": "markdown",
   "id": "acf5e559",
   "metadata": {},
   "source": [
    "#### 14. How do you type a tuple value that only contains the integer 42?\n",
    "**Ans:** (42,)"
   ]
  },
  {
   "cell_type": "code",
   "execution_count": 11,
   "id": "bb1514e9",
   "metadata": {},
   "outputs": [
    {
     "name": "stdout",
     "output_type": "stream",
     "text": [
      "<class 'int'>\n",
      "<class 'tuple'>\n"
     ]
    }
   ],
   "source": [
    "tup1=(42)\n",
    "tup2=(42,)\n",
    "print(type(tup1))\n",
    "print(type(tup2))"
   ]
  },
  {
   "cell_type": "markdown",
   "id": "6e7152f9",
   "metadata": {},
   "source": [
    "#### 15. How do you get a list value's tuple form? How do you get a tuple value's list form?\n",
    "**Ans:** The tuple() and list() functions, respectively are used to convert a list to tuple and vice versa"
   ]
  },
  {
   "cell_type": "markdown",
   "id": "9015af97",
   "metadata": {},
   "source": [
    "#### 16. Variables that \"contain\" list values are not necessarily lists themselves. Instead, what do they contain?\n",
    "**Ans:** They contain references to list values."
   ]
  },
  {
   "cell_type": "markdown",
   "id": "4b62bcd8",
   "metadata": {},
   "source": [
    "#### 17. How do you distinguish between copy.copy() and copy.deepcopy()?\n",
    "**Ans:** The copy.copy() function will do a shallow copy of a list, while the copy.deepcopy() function will do a deep copy of a list. That is, only copy.deepcopy() will duplicate any lists inside the list."
   ]
  }
 ],
 "metadata": {
  "kernelspec": {
   "display_name": "Python 3 (ipykernel)",
   "language": "python",
   "name": "python3"
  },
  "language_info": {
   "codemirror_mode": {
    "name": "ipython",
    "version": 3
   },
   "file_extension": ".py",
   "mimetype": "text/x-python",
   "name": "python",
   "nbconvert_exporter": "python",
   "pygments_lexer": "ipython3",
   "version": "3.9.7"
  }
 },
 "nbformat": 4,
 "nbformat_minor": 5
}
