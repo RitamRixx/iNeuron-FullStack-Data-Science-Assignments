{
 "cells": [
  {
   "cell_type": "markdown",
   "id": "413b680c",
   "metadata": {},
   "source": [
    "# Assignment 3 Solution"
   ]
  },
  {
   "cell_type": "markdown",
   "id": "735d3453",
   "metadata": {},
   "source": [
    "#### 1. Why are functions advantageous to have in your programs?\n",
    "**Ans:**  Functions allow you to break down your program into smaller, self-contained modules. Each function performs a specific task, making the overall program more organized and easier to understand. Functions can be reused in different parts of the program or even in other programs, saving time and effort."
   ]
  },
  {
   "cell_type": "markdown",
   "id": "149d94a4",
   "metadata": {},
   "source": [
    "#### 2. When does the code in a function run: when it's specified or when it's called?\n",
    "**Ans:** The code in a function executes when the function is called, not when the function is specified."
   ]
  },
  {
   "cell_type": "markdown",
   "id": "940d2a91",
   "metadata": {},
   "source": [
    "#### 3. What statement creates a function?\n",
    "**Ans:** The  'def'  statement defines a function "
   ]
  },
  {
   "cell_type": "markdown",
   "id": "f912b5d4",
   "metadata": {},
   "source": [
    "#### 4. What is the difference between a function and a function call?\n",
    "**Ans:** A function is a defined block of code that encapsulates a specific behavior, while a function call is the point in the program where the function is invoked, and its code is executed with specific arguments. A function can be called multiple times throughout the program with different arguments, allowing for reusability and flexibility."
   ]
  },
  {
   "cell_type": "code",
   "execution_count": 4,
   "id": "d4bd2f34",
   "metadata": {},
   "outputs": [],
   "source": [
    "#function\n",
    "def add_numbers(a, b):\n",
    "    sum = a + b\n",
    "    return sum\n",
    "#function call\n",
    "result = add_numbers(3, 5)"
   ]
  },
  {
   "cell_type": "markdown",
   "id": "494df8a7",
   "metadata": {},
   "source": [
    "#### 5. How many global scopes are there in a Python program? How many local scopes?\n",
    "**Ans:** There is one global scope, and a local scope is created whenever a function is called."
   ]
  },
  {
   "cell_type": "markdown",
   "id": "487c1158",
   "metadata": {},
   "source": [
    "#### 6. What happens to variables in a local scope when the function call returns?\n",
    "**Ans:** When a function returns, the local scope is destroyed, and all the variables in it are forgotten."
   ]
  },
  {
   "cell_type": "markdown",
   "id": "5ce67e21",
   "metadata": {},
   "source": [
    "#### 7. What is the concept of a return value? Is it possible to have a return value in an expression?\n",
    "**Ans:** A return value is the value that a function call evaluates to. Like any value, a return value can be used\n",
    "as part of an expression."
   ]
  },
  {
   "cell_type": "markdown",
   "id": "ae92975b",
   "metadata": {},
   "source": [
    "#### 8. If a function does not have a return statement, what is the return value of a call to that function? \n",
    "**Ans:** If there is no return statement for a function, its return value is 'None'."
   ]
  },
  {
   "cell_type": "markdown",
   "id": "593acb7e",
   "metadata": {},
   "source": [
    "#### 9. How do you make a function variable refer to the global variable?\n",
    "**Ans:** A global statement will force a variable in a function to refer to the global variable.\n",
    "If you want to refer to a global variable in a function, you can use the `global` keyword to declare which variables are  global."
   ]
  },
  {
   "cell_type": "markdown",
   "id": "a7733d0a",
   "metadata": {},
   "source": [
    "#### 10. What is the data type of None?\n",
    "**Ans:** In Python, the data type of 'None' is called 'NoneType'. "
   ]
  },
  {
   "cell_type": "markdown",
   "id": "9b0cccaf",
   "metadata": {},
   "source": [
    "#### 11. What does the sentence import areallyourpetsnamederic do?\n",
    "**Ans:** That import statement imports a module named areallyourpetsnamederic."
   ]
  },
  {
   "cell_type": "markdown",
   "id": "18057ba0",
   "metadata": {},
   "source": [
    "#### 12. If you had a bacon() feature in a spam module, what would you call it after importing spam?\n",
    "**Ans:** This function can be called with `spam.bacon()`."
   ]
  },
  {
   "cell_type": "markdown",
   "id": "a54c22d7",
   "metadata": {},
   "source": [
    "#### 13. What can you do to save a programme from crashing if it encounters an error?\n",
    "**Ans:** Place the line of code that might cause an error in a `try` clause and use except `block` to handle the error."
   ]
  },
  {
   "cell_type": "markdown",
   "id": "c522f42e",
   "metadata": {},
   "source": [
    "#### 14. What is the purpose of the try clause? What is the purpose of the except clause?\n",
    "ANS:The code that could potentially cause an error goes in the `try` clause. The code that executes if an error happens goes in the `except` clause."
   ]
  }
 ],
 "metadata": {
  "kernelspec": {
   "display_name": "Python 3 (ipykernel)",
   "language": "python",
   "name": "python3"
  },
  "language_info": {
   "codemirror_mode": {
    "name": "ipython",
    "version": 3
   },
   "file_extension": ".py",
   "mimetype": "text/x-python",
   "name": "python",
   "nbconvert_exporter": "python",
   "pygments_lexer": "ipython3",
   "version": "3.9.7"
  }
 },
 "nbformat": 4,
 "nbformat_minor": 5
}
