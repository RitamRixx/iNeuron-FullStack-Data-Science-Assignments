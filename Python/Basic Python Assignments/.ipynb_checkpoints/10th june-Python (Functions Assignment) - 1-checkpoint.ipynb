{
 "cells": [
  {
   "cell_type": "markdown",
   "id": "83d74011",
   "metadata": {},
   "source": [
    "# 10th June - Python (Functions Assignment) - 1"
   ]
  },
  {
   "cell_type": "markdown",
   "id": "ef83ef5d",
   "metadata": {},
   "source": [
    "#### 1. In Python, what is the difference between a built-in function and a user-defined function? Provide an example of each.\n",
    "**Ans:**  Built-in functions are already provided by Python, while user-defined functions are created by developers to add custom functionality to their programs.\n"
   ]
  },
  {
   "cell_type": "code",
   "execution_count": 1,
   "id": "67ae54f5",
   "metadata": {},
   "outputs": [
    {
     "name": "stdout",
     "output_type": "stream",
     "text": [
      "Hello, World!\n"
     ]
    }
   ],
   "source": [
    "print(\"Hello, World!\")#print is built-in function"
   ]
  },
  {
   "cell_type": "code",
   "execution_count": 3,
   "id": "4d7c8ba6",
   "metadata": {},
   "outputs": [
    {
     "name": "stdout",
     "output_type": "stream",
     "text": [
      "Hello, World!\n"
     ]
    }
   ],
   "source": [
    "# Defining a user-defined function\n",
    "def greet(name):\n",
    "    print(\"Hello, \" + name + \"!\")\n",
    "\n",
    "# Calling the user-defined function\n",
    "greet(\"World\")"
   ]
  },
  {
   "cell_type": "markdown",
   "id": "6035fb26",
   "metadata": {},
   "source": [
    "#### 2. How can you pass arguments to a function in Python? Explain the difference between positional arguments and keyword arguments.\n",
    "**Ans:** Arguments are specified after the function name, inside the parentheses. You can add as many arguments as you want, just separate them with a comma."
   ]
  },
  {
   "cell_type": "code",
   "execution_count": 6,
   "id": "02b396ee",
   "metadata": {},
   "outputs": [
    {
     "name": "stdout",
     "output_type": "stream",
     "text": [
      "Apple --Fruit\n",
      "orange --Fruit\n",
      "Banana --Fruit\n"
     ]
    }
   ],
   "source": [
    "def fruit_name(fname):\n",
    "  print(fname + \" --Fruit\")\n",
    "\n",
    "fruit_name(\"Apple\")\n",
    "fruit_name(\"orange\")\n",
    "fruit_name(\"Banana\")"
   ]
  },
  {
   "cell_type": "markdown",
   "id": "0b5a8897",
   "metadata": {},
   "source": [
    "Positional arguments must be included in the correct order. Keyword arguments are included with a keyword and equals sign."
   ]
  },
  {
   "cell_type": "markdown",
   "id": "c644f670",
   "metadata": {},
   "source": [
    "####  3. What is the purpose of the return statement in a function? Can a function have multiple return statements? Explain with an example."
   ]
  },
  {
   "cell_type": "markdown",
   "id": "bd7a3e2a",
   "metadata": {},
   "source": [
    "**Ans:** The return statement in a function is used to specify the value or values that the function should send back as the result of its execution. It serves the purpose of terminating the function and providing an output or value that can be used by the calling code.\n"
   ]
  },
  {
   "cell_type": "markdown",
   "id": "02122aa7",
   "metadata": {},
   "source": [
    "A function can have multiple return statements.Having multiple return statements allows you to conditionally return different values based on specific conditions within the function."
   ]
  },
  {
   "cell_type": "code",
   "execution_count": 1,
   "id": "dc4421a7",
   "metadata": {},
   "outputs": [
    {
     "name": "stdout",
     "output_type": "stream",
     "text": [
      "B\n"
     ]
    }
   ],
   "source": [
    "def get_grade(score):\n",
    "    if score >= 90:\n",
    "        return \"A\"\n",
    "    elif score >= 80:\n",
    "        return \"B\"\n",
    "    elif score >= 70:\n",
    "        return \"C\"\n",
    "    else:\n",
    "        return \"F\"\n",
    "\n",
    "student_score = 85\n",
    "grade = get_grade(student_score)\n",
    "print(grade)"
   ]
  },
  {
   "cell_type": "markdown",
   "id": "78775502",
   "metadata": {},
   "source": [
    "#### 4. What are lambda functions in Python? How are they different from regular functions? Provide an example where a lambda function can be useful.\n"
   ]
  },
  {
   "cell_type": "markdown",
   "id": "35d6bef7",
   "metadata": {},
   "source": [
    "**Ans.** A lambda function is a small anonymous function.A lambda function can take any number of arguments, but can only have one expression"
   ]
  },
  {
   "cell_type": "markdown",
   "id": "d0020ec2",
   "metadata": {},
   "source": [
    "A lambda function is an anonymous function that can take any number of arguments but, unlike normal functions, evaluates and returns only one expression. Lambda functions are defined using the lambda keyword followed by parameters and an expression.Regular functions are defined using the def keyword, a function name, parameters within parentheses and a colon."
   ]
  },
  {
   "cell_type": "code",
   "execution_count": 1,
   "id": "25b2011d",
   "metadata": {},
   "outputs": [
    {
     "name": "stdout",
     "output_type": "stream",
     "text": [
      "[2, 4, 6, 8, 10]\n"
     ]
    }
   ],
   "source": [
    "numbers = [1, 2, 3, 4, 5, 6, 7, 8, 9, 10]\n",
    "\n",
    "even_numbers = list(filter(lambda x: x % 2 == 0, numbers))\n",
    "print(even_numbers)"
   ]
  },
  {
   "cell_type": "markdown",
   "id": "14ad5f9b",
   "metadata": {},
   "source": [
    "#### 5. How does the concept of \"scope\" apply to functions in Python? Explain the difference between local scope and global scope."
   ]
  },
  {
   "cell_type": "markdown",
   "id": "66f7606e",
   "metadata": {},
   "source": [
    "**Ans.** In Python, scope is the context in which a variable is defined, and this context determines how a variable can be used throughout the code."
   ]
  },
  {
   "cell_type": "markdown",
   "id": "19107a63",
   "metadata": {},
   "source": [
    "the difference between local scope and global scope -"
   ]
  },
  {
   "cell_type": "markdown",
   "id": "dd93fd76",
   "metadata": {},
   "source": [
    "Local scope refers to the innermost or most specific level of scope. Variables defined within a function are said to have local scope, which means they are only accessible within that function."
   ]
  },
  {
   "cell_type": "code",
   "execution_count": 7,
   "id": "396f8000",
   "metadata": {},
   "outputs": [
    {
     "name": "stdout",
     "output_type": "stream",
     "text": [
      "10\n"
     ]
    }
   ],
   "source": [
    "def my_function():\n",
    "    x = 10  # x is a local variable\n",
    "    print(x)\n",
    "my_function()"
   ]
  },
  {
   "cell_type": "markdown",
   "id": "bc56d8a6",
   "metadata": {},
   "source": [
    "Global scope refers to the outermost or broader level of scope. Variables defined outside of any function or at the top level of a script have global scope."
   ]
  },
  {
   "cell_type": "code",
   "execution_count": 8,
   "id": "c1e10738",
   "metadata": {},
   "outputs": [
    {
     "name": "stdout",
     "output_type": "stream",
     "text": [
      "20\n"
     ]
    }
   ],
   "source": [
    "x = 10  # x is a global variable\n",
    "\n",
    "def my_function():\n",
    "    global x  # Use the global keyword to modify the global variable x\n",
    "    x = 20\n",
    "    print(x)\n",
    "\n",
    "my_function()"
   ]
  },
  {
   "cell_type": "markdown",
   "id": "58bd3909",
   "metadata": {},
   "source": [
    "#### 6. How can you use the \"return\" statement in a Python function to return multiple values?"
   ]
  },
  {
   "cell_type": "markdown",
   "id": "e7fc60b3",
   "metadata": {},
   "source": [
    "**Ans.** In Python, we can use the 'return' statement in a function to return multiple values by placing those values in a data structure like a tuple, list, or dictionary."
   ]
  },
  {
   "cell_type": "markdown",
   "id": "eafb03be",
   "metadata": {},
   "source": [
    "**Using Tuple**"
   ]
  },
  {
   "cell_type": "code",
   "execution_count": 9,
   "id": "5c00a3c4",
   "metadata": {},
   "outputs": [
    {
     "name": "stdout",
     "output_type": "stream",
     "text": [
      "(10, 20, 30)\n"
     ]
    }
   ],
   "source": [
    "def multiple_values():\n",
    "    a = 10\n",
    "    b = 20\n",
    "    c = 30\n",
    "    return a, b, c\n",
    "\n",
    "result = multiple_values()\n",
    "print(result)"
   ]
  },
  {
   "cell_type": "markdown",
   "id": "51bf34aa",
   "metadata": {},
   "source": [
    "**Using List**"
   ]
  },
  {
   "cell_type": "code",
   "execution_count": 10,
   "id": "dd4e8a2a",
   "metadata": {},
   "outputs": [
    {
     "name": "stdout",
     "output_type": "stream",
     "text": [
      "[10, 20, 30]\n"
     ]
    }
   ],
   "source": [
    "def multiple_values():\n",
    "    a = 10\n",
    "    b = 20\n",
    "    c = 30\n",
    "    return [a, b, c]\n",
    "\n",
    "result = multiple_values()\n",
    "print(result)"
   ]
  },
  {
   "cell_type": "markdown",
   "id": "83f2b7e6",
   "metadata": {},
   "source": [
    "**Using Dictionary**"
   ]
  },
  {
   "cell_type": "code",
   "execution_count": 11,
   "id": "47c31714",
   "metadata": {},
   "outputs": [
    {
     "name": "stdout",
     "output_type": "stream",
     "text": [
      "{'First': 10, 'Second': 20, 'Third': 30}\n"
     ]
    }
   ],
   "source": [
    "def multiple_values():\n",
    "    a = 10\n",
    "    b = 20\n",
    "    c = 30\n",
    "    return {\"First\": a,\"Second\": b,\"Third\": c}\n",
    "\n",
    "result = multiple_values()\n",
    "print(result)"
   ]
  },
  {
   "cell_type": "markdown",
   "id": "348fe788",
   "metadata": {},
   "source": [
    "#### 7. What is the difference between the \"pass by value\" and \"pass by reference\" concepts when it comes to function arguments in Python?"
   ]
  },
  {
   "cell_type": "markdown",
   "id": "9c118a5d",
   "metadata": {},
   "source": [
    "**Ans.** Python does not have \"pass by value\" or \"pass by reference\" like some other programming languages. It uses \"pass by object reference\" or \"call by sharing,\" where the reference to the object is passed to the function, and modifications to the object are reflected outside the function."
   ]
  },
  {
   "cell_type": "markdown",
   "id": "5f0ad237",
   "metadata": {},
   "source": [
    "#### 8. Create a function that can intake integer or decimal value and do following operations:\n",
    "##### a. Logarithmic function (log x)\n",
    "##### b. Exponential function (exp(x))\n",
    "##### c. Power function with base 2 (2x)\n",
    "##### d. Square root"
   ]
  },
  {
   "cell_type": "code",
   "execution_count": 16,
   "id": "81f07df9",
   "metadata": {},
   "outputs": [
    {
     "name": "stdout",
     "output_type": "stream",
     "text": [
      "Enter a number (integer or decimal): 2\n",
      "Logarithmic function (log x): 0.6931471805599453\n",
      "Exponential function (exp(x)): 7.38905609893065\n",
      "Power function with base 2 (2x): 4.0\n",
      "Square root: 1.4142135623730951\n"
     ]
    }
   ],
   "source": [
    "import math\n",
    "\n",
    "def math_ops(x):\n",
    "    try:\n",
    "        x = float(x)\n",
    "        \n",
    "        logarithm = math.log(x)\n",
    "        exponential = math.exp(x)\n",
    "        power_of_two = 2 ** x\n",
    "        square_root = math.sqrt(x)\n",
    "        \n",
    "        return{\n",
    "            'Logarithmic function (log x)': logarithm,\n",
    "            'Exponential function (exp(x))': exponential,\n",
    "            'Power function with base 2 (2x)': power_of_two,\n",
    "            'Square root': square_root\n",
    "        }\n",
    "    except ValueError:\n",
    "        return \"Invalid input. Please enter a valid number.\"\n",
    "    \n",
    "value = input(\"Enter a number (integer or decimal): \")\n",
    "result = math_ops(value)\n",
    "if isinstance(result, dict):\n",
    "    for operation, value in result.items():\n",
    "        print(f\"{operation}: {value}\")\n",
    "else:\n",
    "    print(result)    \n",
    "    "
   ]
  },
  {
   "cell_type": "markdown",
   "id": "81efdc66",
   "metadata": {},
   "source": [
    "#### 9. Create a function that takes a full name as an argument and returns first name and last name."
   ]
  },
  {
   "cell_type": "code",
   "execution_count": 18,
   "id": "a318982e",
   "metadata": {},
   "outputs": [
    {
     "name": "stdout",
     "output_type": "stream",
     "text": [
      "Enter your full name: Ritam Rakshit\n",
      "('Ritam', 'Rakshit')\n",
      "First Name: Ritam\n",
      "Last Name: Rakshit\n"
     ]
    }
   ],
   "source": [
    "full_name = input(\"Enter your full name: \")\n",
    "\n",
    "def split_full_name(fullname):\n",
    "    name_parts = fullname.split()\n",
    "    \n",
    "    if len(name_parts) >= 2:\n",
    "        first_name = name_parts[0]\n",
    "        last_name = name_parts[-1]\n",
    "        return(first_name,last_name)\n",
    "    else:\n",
    "        return \"Invalid Format\"\n",
    "    \n",
    "    \n",
    "name_parts = split_full_name(full_name)\n",
    "print(name_parts)\n",
    "\n",
    "if isinstance(name_parts, tuple):\n",
    "    first_name, last_name = name_parts\n",
    "    print(f\"First Name: {first_name}\")\n",
    "    print(f\"Last Name: {last_name}\")\n",
    "else:\n",
    "    print(name_parts)"
   ]
  }
 ],
 "metadata": {
  "kernelspec": {
   "display_name": "Python 3 (ipykernel)",
   "language": "python",
   "name": "python3"
  },
  "language_info": {
   "codemirror_mode": {
    "name": "ipython",
    "version": 3
   },
   "file_extension": ".py",
   "mimetype": "text/x-python",
   "name": "python",
   "nbconvert_exporter": "python",
   "pygments_lexer": "ipython3",
   "version": "3.9.7"
  }
 },
 "nbformat": 4,
 "nbformat_minor": 5
}
