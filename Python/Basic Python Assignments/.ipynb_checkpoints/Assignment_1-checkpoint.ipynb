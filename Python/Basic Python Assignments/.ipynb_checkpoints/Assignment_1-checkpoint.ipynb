{
 "cells": [
  {
   "cell_type": "markdown",
   "id": "21e97508",
   "metadata": {},
   "source": [
    "# Assignment_1 Solutions"
   ]
  },
  {
   "cell_type": "markdown",
   "id": "88eda89a",
   "metadata": {},
   "source": [
    "**1. In the below elements which of them are values or an expression? eg:- values can be integer or string and expressions will be mathematical operators.**\n",
    "\n",
    "**\"*\"**,\n",
    "**'hello'**,\n",
    "**-87.8**,\n",
    "**\"-\"** ,\n",
    "**\"/\"** ,\n",
    "**\"+\"**,\t\n",
    "**6**."
   ]
  },
  {
   "cell_type": "markdown",
   "id": "6c0e825c",
   "metadata": {},
   "source": [
    "Ans: In the given list, the values and expressions can be identified as follows:\n",
    "\n",
    "Values:\n",
    "\n",
    "'hello' (string)\n",
    "-87.8 (float)\n",
    "6 (integer)\n",
    "\n",
    "Expressions:\n",
    "\n",
    "* *(multiplication operator),\n",
    "* -(subtraction operator),\n",
    "* /(division operator),\n",
    "* +(addition operator)\n"
   ]
  },
  {
   "cell_type": "markdown",
   "id": "d7a2620a",
   "metadata": {},
   "source": [
    "#### 2. What is the difference between string and variable?"
   ]
  },
  {
   "cell_type": "markdown",
   "id": "4067a718",
   "metadata": {},
   "source": [
    "Ans: A string is a specific type of data that represents text, while a variable is a container that can hold different types of data, including strings. Variables allow you to store and manipulate data in a more flexible manner, while strings specifically deal with textual information."
   ]
  },
  {
   "cell_type": "markdown",
   "id": "3158cfb4",
   "metadata": {},
   "source": [
    "#### 3. Describe three different data types."
   ]
  },
  {
   "cell_type": "markdown",
   "id": "ab24cefd",
   "metadata": {},
   "source": [
    "Ans: 1.Integers: Integers are whole numbers, without a fractional component. They can be positive or negative."
   ]
  },
  {
   "cell_type": "code",
   "execution_count": null,
   "id": "1807df93",
   "metadata": {},
   "outputs": [],
   "source": [
    "x = 10\n",
    "y = -3"
   ]
  },
  {
   "cell_type": "markdown",
   "id": "3aeddbb5",
   "metadata": {},
   "source": [
    "2.Floats: Floats represent real numbers and are written with a decimal point."
   ]
  },
  {
   "cell_type": "code",
   "execution_count": null,
   "id": "88567bb2",
   "metadata": {},
   "outputs": [],
   "source": [
    "x = 10.0\n",
    "y = -3.14"
   ]
  },
  {
   "cell_type": "markdown",
   "id": "c654c9c8",
   "metadata": {},
   "source": [
    "3.Strings: Strings in Python are sequences of character data. They are created by enclosing characters in quotes."
   ]
  },
  {
   "cell_type": "code",
   "execution_count": 1,
   "id": "b0839397",
   "metadata": {},
   "outputs": [
    {
     "name": "stdout",
     "output_type": "stream",
     "text": [
      "Hello, World!\n"
     ]
    }
   ],
   "source": [
    "s = \"Hello, World!\"\n",
    "print(s)"
   ]
  },
  {
   "cell_type": "markdown",
   "id": "55ae4226",
   "metadata": {},
   "source": [
    "#### 4. What is an expression made up of? What do all expressions do?"
   ]
  },
  {
   "cell_type": "markdown",
   "id": "d66e24fa",
   "metadata": {},
   "source": [
    "Ans: An expression is made up of one or more elements that combine values, variables, operators, and function calls to produce a \n",
    "new value. It represents a computation or evaluation that results in a single value.\n",
    "\n",
    "An example of expression can be : x = x + 1 0 x = x + 10 x=x+10."
   ]
  },
  {
   "cell_type": "markdown",
   "id": "d6b2d70d",
   "metadata": {},
   "source": [
    "Expressions are used to perform computations, comparisons, or transformations of data within a program. They can be used in assignments, conditionals, loops, or as standalone computations.The main purpose of expressions is to evaluate and produce a resulting value that can be used further in the program's execution."
   ]
  },
  {
   "cell_type": "markdown",
   "id": "84d34917",
   "metadata": {},
   "source": [
    "#### 5. This assignment statements, like spam = 10. What is the difference between an expression and a statement?"
   ]
  },
  {
   "cell_type": "markdown",
   "id": "f4a64e30",
   "metadata": {},
   "source": [
    "Ans: An expression is a combination of values, variables, and operators.When we type an expression at the prompt, the \n",
    "interpreter evaluates it, which means that it finds the value of the expression."
   ]
  },
  {
   "cell_type": "markdown",
   "id": "897c19b4",
   "metadata": {},
   "source": [
    "eg: 2*7+10-20 is an example of a statement"
   ]
  },
  {
   "cell_type": "markdown",
   "id": "cc8f4465",
   "metadata": {},
   "source": [
    "A statement is a unit of code that has an effect, like creating a variable or displaying a value.When we type a statement, the interpreter executes it, which means that it does whatever the statement says. In general, statements don’t have values."
   ]
  },
  {
   "cell_type": "markdown",
   "id": "d0ce36ab",
   "metadata": {},
   "source": [
    "eg: variable declaration and assignment are statements because they do not return a value"
   ]
  },
  {
   "cell_type": "code",
   "execution_count": 2,
   "id": "012be6b3",
   "metadata": {},
   "outputs": [
    {
     "name": "stdout",
     "output_type": "stream",
     "text": [
      "Hello World\n"
     ]
    }
   ],
   "source": [
    "#Example:\n",
    "2*7+10-20 # Is a Expression\n",
    "courseName = 'Hi coders, welcome to python' # Is a Statement\n",
    "print(\"Hello World\") # Is a Expression Statement"
   ]
  },
  {
   "cell_type": "markdown",
   "id": "86133272",
   "metadata": {},
   "source": [
    "#### 6. After running the following code, what does the variable bacon contain?"
   ]
  },
  {
   "cell_type": "code",
   "execution_count": null,
   "id": "849f28f1",
   "metadata": {},
   "outputs": [],
   "source": [
    "bacon = 22\n",
    "bacon + 1"
   ]
  },
  {
   "cell_type": "markdown",
   "id": "9b5c44b1",
   "metadata": {},
   "source": [
    "Ans: The variable bacon is set to 22. The expression bacon + 1 does not reassign the value in bacon (that would the case if the expression is like bacon = bacon + 1 instead of bacon + 1)"
   ]
  },
  {
   "cell_type": "code",
   "execution_count": 3,
   "id": "0423295d",
   "metadata": {},
   "outputs": [
    {
     "name": "stdout",
     "output_type": "stream",
     "text": [
      "22\n"
     ]
    }
   ],
   "source": [
    "# Example Case#1\n",
    "bacon=22\n",
    "bacon+1\n",
    "print(bacon)"
   ]
  },
  {
   "cell_type": "code",
   "execution_count": 4,
   "id": "3fde7a59",
   "metadata": {},
   "outputs": [
    {
     "name": "stdout",
     "output_type": "stream",
     "text": [
      "23\n"
     ]
    }
   ],
   "source": [
    "#Example Case#2\n",
    "bacon=22\n",
    "bacon=bacon+1 \n",
    "print(bacon)"
   ]
  },
  {
   "cell_type": "markdown",
   "id": "e26ba73d",
   "metadata": {},
   "source": [
    "#### 7. What should the values of the following two terms be?"
   ]
  },
  {
   "cell_type": "code",
   "execution_count": null,
   "id": "30930b8a",
   "metadata": {},
   "outputs": [],
   "source": [
    "'spam' + 'spamspam'\n",
    "'spam' * 3"
   ]
  },
  {
   "cell_type": "markdown",
   "id": "415750e5",
   "metadata": {},
   "source": [
    "Ans: Both expressions evaluate to the string 'spamspamspam' Where as the first expression follows String Concatentation and the second expression follows String Multiplication"
   ]
  },
  {
   "cell_type": "code",
   "execution_count": 5,
   "id": "e7f3743c",
   "metadata": {},
   "outputs": [
    {
     "name": "stdout",
     "output_type": "stream",
     "text": [
      "spamspamspam\n",
      "spamspamspam\n"
     ]
    }
   ],
   "source": [
    "print('spam'+'spamspam') # string concatenation\n",
    "print('spam'*3) # string multiplication"
   ]
  },
  {
   "cell_type": "markdown",
   "id": "e39ea717",
   "metadata": {},
   "source": [
    "#### 8. Why is eggs a valid variable name while 100 is invalid?"
   ]
  },
  {
   "cell_type": "markdown",
   "id": "20987672",
   "metadata": {},
   "source": [
    "Ans: As per python,Variable names cannot begin with a number. The python rules for naming a variable are :-\n",
    "1.Variable name must start with a letter or the underscore character.\n",
    "2.Variable name cannot start with a number.\n",
    "3.Variable name can only contain alpha-numeric characters and underscores (A-z, 0-9, & _ ).\n",
    "4.Variable names are case-sensitive (name, INEURON and ineuron are three different variables).\n",
    "5.The reserved words(keywords) cannot be used naming the variable."
   ]
  },
  {
   "cell_type": "code",
   "execution_count": 7,
   "id": "62b58f54",
   "metadata": {},
   "outputs": [
    {
     "name": "stdout",
     "output_type": "stream",
     "text": [
      "Ineuron\n"
     ]
    }
   ],
   "source": [
    "egg='Ineuron' # Valid variable Initilization\n",
    "print(egg) #prints the value of egg ie Ineuron"
   ]
  },
  {
   "cell_type": "code",
   "execution_count": 8,
   "id": "61b1ab32",
   "metadata": {},
   "outputs": [
    {
     "ename": "SyntaxError",
     "evalue": "cannot assign to literal (Temp/ipykernel_26996/78540720.py, line 1)",
     "output_type": "error",
     "traceback": [
      "\u001b[1;36m  File \u001b[1;32m\"C:\\Users\\ritam\\AppData\\Local\\Temp/ipykernel_26996/78540720.py\"\u001b[1;36m, line \u001b[1;32m1\u001b[0m\n\u001b[1;33m    100='hello' # Invalid Variable Initilization\u001b[0m\n\u001b[1;37m    ^\u001b[0m\n\u001b[1;31mSyntaxError\u001b[0m\u001b[1;31m:\u001b[0m cannot assign to literal\n"
     ]
    }
   ],
   "source": [
    "100='hello' # Invalid Variable Initilization\n",
    "print(100) # Raises a Syntax Error as 100 is not a valid variable name"
   ]
  },
  {
   "cell_type": "markdown",
   "id": "496149fc",
   "metadata": {},
   "source": [
    "#### 9. What three functions can be used to get the integer, floating-point number, or string version of a value?"
   ]
  },
  {
   "cell_type": "markdown",
   "id": "1f7b760a",
   "metadata": {},
   "source": [
    "Ans: The int(),float(),and str() functions will evaluate to the integer,floating-point number,string version of the value passed to them."
   ]
  },
  {
   "cell_type": "code",
   "execution_count": 9,
   "id": "18e2e8dd",
   "metadata": {},
   "outputs": [
    {
     "name": "stdout",
     "output_type": "stream",
     "text": [
      "int(10.0) ->  10\n",
      "float(10) ->  10.0\n",
      "str(10) ->  10\n"
     ]
    }
   ],
   "source": [
    "print('int(10.0) -> ',int(10.0)) # int() function converts given input to int\n",
    "print('float(10) -> ',float(10)) # float() function converts given input to float\n",
    "print('str(10) -> ',str(10)) # str() function converts given input to string"
   ]
  },
  {
   "cell_type": "markdown",
   "id": "dd309941",
   "metadata": {},
   "source": [
    "#### 10. Why does this expression cause an error? How can you fix it?"
   ]
  },
  {
   "cell_type": "code",
   "execution_count": null,
   "id": "e0f0fcd4",
   "metadata": {},
   "outputs": [],
   "source": [
    "'I have eaten ' + 99 + ' burritos.'"
   ]
  },
  {
   "cell_type": "markdown",
   "id": "a22073e6",
   "metadata": {},
   "source": [
    "Ans: This cause of error is 99.because 99 is not a string. 99 must be typecasted to a string to fix this error. the correct way is:\n",
    "Input: 'I have eaten ' + str(99) + 'burritos.'\n",
    "Output: 'I have eaten 99 burritos.'"
   ]
  },
  {
   "cell_type": "code",
   "execution_count": 10,
   "id": "a9ca6a55",
   "metadata": {},
   "outputs": [
    {
     "name": "stdout",
     "output_type": "stream",
     "text": [
      "I have eaten 99 burritos\n"
     ]
    }
   ],
   "source": [
    "print('I have eaten '+str(99)+' burritos')"
   ]
  }
 ],
 "metadata": {
  "kernelspec": {
   "display_name": "Python 3 (ipykernel)",
   "language": "python",
   "name": "python3"
  },
  "language_info": {
   "codemirror_mode": {
    "name": "ipython",
    "version": 3
   },
   "file_extension": ".py",
   "mimetype": "text/x-python",
   "name": "python",
   "nbconvert_exporter": "python",
   "pygments_lexer": "ipython3",
   "version": "3.9.7"
  }
 },
 "nbformat": 4,
 "nbformat_minor": 5
}
