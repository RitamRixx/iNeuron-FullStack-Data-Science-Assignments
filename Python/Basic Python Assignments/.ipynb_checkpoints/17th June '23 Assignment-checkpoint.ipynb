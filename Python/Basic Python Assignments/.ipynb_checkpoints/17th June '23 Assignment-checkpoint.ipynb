{
 "cells": [
  {
   "cell_type": "markdown",
   "id": "b5256a14",
   "metadata": {},
   "source": [
    "## 17th June '23 Assignment"
   ]
  },
  {
   "cell_type": "markdown",
   "id": "ef96d444",
   "metadata": {},
   "source": [
    "#### 1. What is the role of try and exception block?\n",
    "**Ans:** The try and except block is a control structure designed to handle exceptions or errors that may occur during the execution of a program.\n",
    "\n",
    "**1** **Try Block:**  The code that might raise an exception is placed within the try block. When the interpreter encounters a try block, it attempts to execute the statements within it.\n",
    "\n",
    "**2** **Except Block:**  If an exception occurs during the execution of the try block, the interpreter looks for an appropriate except block that can handle that particular type of exception. If a matching except block is found, the code within that block is executed. The except block allows the program to respond to the exception gracefully, which could involve logging the error, notifying the user, or taking other corrective actions."
   ]
  },
  {
   "cell_type": "markdown",
   "id": "1b367d4a",
   "metadata": {},
   "source": [
    "##### 2. What is the syntax for a basic try-except block?\n",
    "**Ans:** The 'try' keyword starts the try block, which contains the code that might raise an exception.The 'except' keyword defines the except block, which specifies the code to execute if a particular type of exception occurs."
   ]
  },
  {
   "cell_type": "code",
   "execution_count": 1,
   "id": "ef8c0a4c",
   "metadata": {},
   "outputs": [],
   "source": [
    "# Example\n",
    "def divide_numbers(x, y):\n",
    "    try:\n",
    "        result = x / y\n",
    "        return result\n",
    "    except ZeroDivisionError:\n",
    "        print(\"Error: Division by zero!\")\n",
    "        return None"
   ]
  },
  {
   "cell_type": "code",
   "execution_count": 2,
   "id": "3e89b8da",
   "metadata": {},
   "outputs": [
    {
     "name": "stdout",
     "output_type": "stream",
     "text": [
      "Error: Division by zero!\n",
      "Cannot compute result due to division by zero\n"
     ]
    }
   ],
   "source": [
    "num1 = 10\n",
    "num2 = 0\n",
    "\n",
    "result = divide_numbers(num1, num2)\n",
    "if result is not None:\n",
    "    print(f\"The result of dividing {num1} by {num2} is {result}\")\n",
    "else:\n",
    "    print(\"Cannot compute result due to division by zero\")"
   ]
  },
  {
   "cell_type": "markdown",
   "id": "d8344fae",
   "metadata": {},
   "source": [
    "#### 3. What happens if an exception occurs inside a try block and there is no matching except block?\n",
    "**Ans:** If an exception occurs inside a try block and there is no matching except block to handle that specific type of exception, the program will terminate abruptly, and an unhandled exception error will be raised. This error message typically includes information about the type of exception that occurred and where it happened in the code."
   ]
  },
  {
   "cell_type": "markdown",
   "id": "1e57d838",
   "metadata": {},
   "source": [
    "#### 4. What is the difference between using a bare except block and specifying a specific exception type?\n",
    "\n",
    "**Ans:** The primary distinction between using a bare 'except' block and specifying a particular exception type lies in the level of detail and control over the exceptions handled within the 'try-except' block.\n",
    "\n",
    "When using a bare 'except; block, meaning an 'except:' without naming a specific exception type, the block will catch any exception that derives from BaseException, which includes most built-in exceptions. This can lead to unintended consequences since it may mask important details about the nature of the exception, making it difficult to diagnose and fix problems\n",
    "\n",
    "On the other hand, when you specify a particular exception type, such as 'except KeyError:' or 'except ValueError:', the block will only catch instances of that specified exception. This provides a clear indication of the kind of error that occurred, allowing for targeted responses and potentially more meaningful error messages"
   ]
  },
  {
   "cell_type": "markdown",
   "id": "7702a566",
   "metadata": {},
   "source": [
    "#### 5. Can you have nested try-except blocks in Python? If yes, then give an example.\n",
    "\n",
    "**Ans:** Yes, I have nested try-except blocks in Python. This means I have a try block inside another try block, and each try block can have its own set of except blocks to handle exceptions locally."
   ]
  },
  {
   "cell_type": "code",
   "execution_count": 5,
   "id": "85069dd4",
   "metadata": {},
   "outputs": [
    {
     "name": "stdout",
     "output_type": "stream",
     "text": [
      "Enter a number: 2\n",
      "Result of division: 5.0\n"
     ]
    }
   ],
   "source": [
    "try:\n",
    "    # Outer try block\n",
    "    x = int(input(\"Enter a number: \"))\n",
    "    try:\n",
    "        # Inner try block\n",
    "        result = 10 / x\n",
    "        print(\"Result of division:\", result)\n",
    "    except ZeroDivisionError:\n",
    "        # Inner except block\n",
    "        print(\"Error: Division by zero!\")\n",
    "except ValueError:\n",
    "    # Outer except block\n",
    "    print(\"Error: Input must be an integer.\")\n"
   ]
  },
  {
   "cell_type": "markdown",
   "id": "6f793501",
   "metadata": {},
   "source": []
  },
  {
   "cell_type": "code",
   "execution_count": null,
   "id": "720e84f6",
   "metadata": {},
   "outputs": [],
   "source": []
  },
  {
   "cell_type": "code",
   "execution_count": null,
   "id": "70713dde",
   "metadata": {},
   "outputs": [],
   "source": []
  },
  {
   "cell_type": "code",
   "execution_count": null,
   "id": "3c5ad85e",
   "metadata": {},
   "outputs": [],
   "source": []
  },
  {
   "cell_type": "code",
   "execution_count": null,
   "id": "45c57ddc",
   "metadata": {},
   "outputs": [],
   "source": []
  },
  {
   "cell_type": "code",
   "execution_count": null,
   "id": "a0cc85a0",
   "metadata": {},
   "outputs": [],
   "source": []
  },
  {
   "cell_type": "code",
   "execution_count": null,
   "id": "5141b27e",
   "metadata": {},
   "outputs": [],
   "source": []
  },
  {
   "cell_type": "code",
   "execution_count": null,
   "id": "ccb920ea",
   "metadata": {},
   "outputs": [],
   "source": []
  }
 ],
 "metadata": {
  "kernelspec": {
   "display_name": "Python 3 (ipykernel)",
   "language": "python",
   "name": "python3"
  },
  "language_info": {
   "codemirror_mode": {
    "name": "ipython",
    "version": 3
   },
   "file_extension": ".py",
   "mimetype": "text/x-python",
   "name": "python",
   "nbconvert_exporter": "python",
   "pygments_lexer": "ipython3",
   "version": "3.11.5"
  }
 },
 "nbformat": 4,
 "nbformat_minor": 5
}
