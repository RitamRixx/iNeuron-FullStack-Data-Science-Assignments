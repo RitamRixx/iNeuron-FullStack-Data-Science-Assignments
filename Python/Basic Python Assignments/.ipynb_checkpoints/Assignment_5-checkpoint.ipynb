{
 "cells": [
  {
   "cell_type": "markdown",
   "id": "d810573c",
   "metadata": {},
   "source": [
    "# Assignment 5 Solution"
   ]
  },
  {
   "cell_type": "markdown",
   "id": "b069d888",
   "metadata": {},
   "source": [
    "#### 1. What does an empty dictionary's code look like?\n",
    "**Ans:** An empty dictionary is often represented by two empty curly brackets\n",
    "d = {} or d = dict()"
   ]
  },
  {
   "cell_type": "markdown",
   "id": "1ff8afca",
   "metadata": {},
   "source": [
    "#### 2. What is the value of a dictionary value with the key 'foo' and the value 42?\n",
    "**Ans:** {'foo':42}"
   ]
  },
  {
   "cell_type": "markdown",
   "id": "132c9129",
   "metadata": {},
   "source": [
    "#### 3. What is the most significant distinction between a dictionary and a list?\n",
    "**Ans:** Dictionaries are represented by {} where lists are represented by[]. The Items sorted in dictionary are unordered, while in list items are sorted in a order."
   ]
  },
  {
   "cell_type": "markdown",
   "id": "94c1333c",
   "metadata": {},
   "source": [
    "#### 4. What happens if you try to access spam['foo'] if spam is {'bar': 100}?\n",
    "**Ans:** We will get a keyeError   KeyError: 'foo'"
   ]
  },
  {
   "cell_type": "markdown",
   "id": "b7a6ba43",
   "metadata": {},
   "source": [
    "#### 5. If a dictionary is stored in spam, what is the difference between the expressions 'cat' in spam and 'cat' in spam.keys()?\n",
    "**Ans:** There is no difference"
   ]
  },
  {
   "cell_type": "markdown",
   "id": "7d8427e8",
   "metadata": {},
   "source": [
    "#### 6. If a dictionary is stored in spam, what is the difference between the expressions 'cat' in spam and 'cat' in spam.values()?\n",
    "**Ans:** 'cat' in spam checks for the presence of 'cat' as a key in the dictionary, while 'cat' in spam.values() checks for the presence of 'cat' as a value in any of the dictionary's values."
   ]
  },
  {
   "cell_type": "markdown",
   "id": "b6fb4068",
   "metadata": {},
   "source": [
    "#### 7. What is a shortcut for the following code?"
   ]
  },
  {
   "cell_type": "code",
   "execution_count": null,
   "id": "7602f05e",
   "metadata": {},
   "outputs": [],
   "source": [
    "if 'color' not in spam:\n",
    "spam['color'] = 'black'\n"
   ]
  },
  {
   "cell_type": "code",
   "execution_count": null,
   "id": "1dfe7f27",
   "metadata": {},
   "outputs": [],
   "source": [
    "#Ans.\n",
    "spam.setdefault('color','black')"
   ]
  },
  {
   "cell_type": "markdown",
   "id": "c6f2cc9e",
   "metadata": {},
   "source": [
    "#### 8. How do you \"pretty print\" dictionary values using which module and function?\n",
    "**Ans:** we can pretty print a dictionary using three functions\n",
    "\n",
    "* by using pprint() function of pprint module  \n",
    "* by using dumps() method of json module \n",
    "* by using dumps() method of yaml module"
   ]
  },
  {
   "cell_type": "code",
   "execution_count": 8,
   "id": "3516311f",
   "metadata": {},
   "outputs": [
    {
     "name": "stdout",
     "output_type": "stream",
     "text": [
      "{'age': 30, 'city': 'New York', 'name': 'John'}\n",
      "{\n",
      "    \"name\": \"John\",\n",
      "    \"age\": 30,\n",
      "    \"city\": \"New York\"\n",
      "}\n",
      "age: 30\n",
      "city: New York\n",
      "name: John\n",
      "\n"
     ]
    }
   ],
   "source": [
    "import pprint\n",
    "\n",
    "my_dict = {'name': 'John', 'age': 30, 'city': 'New York'}\n",
    "pprint.pprint(my_dict)\n",
    "\n",
    "import json\n",
    "dump = json.dumps(my_dict, indent=4)\n",
    "print(dump)\n",
    "\n",
    "import yaml\n",
    "dump = yaml.dump(my_dict)\n",
    "print(dump)"
   ]
  }
 ],
 "metadata": {
  "kernelspec": {
   "display_name": "Python 3 (ipykernel)",
   "language": "python",
   "name": "python3"
  },
  "language_info": {
   "codemirror_mode": {
    "name": "ipython",
    "version": 3
   },
   "file_extension": ".py",
   "mimetype": "text/x-python",
   "name": "python",
   "nbconvert_exporter": "python",
   "pygments_lexer": "ipython3",
   "version": "3.9.7"
  }
 },
 "nbformat": 4,
 "nbformat_minor": 5
}
