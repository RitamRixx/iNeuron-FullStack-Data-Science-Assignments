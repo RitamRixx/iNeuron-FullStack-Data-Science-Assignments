{
 "cells": [
  {
   "cell_type": "markdown",
   "id": "7dd2533d",
   "metadata": {},
   "source": [
    "# Assignment-6 Solution\n",
    "## Python Basic - 1"
   ]
  },
  {
   "cell_type": "markdown",
   "id": "ebcf86d7",
   "metadata": {},
   "source": [
    "#### 1. What are keywords in python? Using the keyword library, print all the python keywords.\n",
    "**Ans:**  Keywords in Python are reserved words that cannot be used as ordinary identifiers. They are used to define the syntax and structure of the Python language."
   ]
  },
  {
   "cell_type": "code",
   "execution_count": 2,
   "id": "5cb2eca2",
   "metadata": {},
   "outputs": [
    {
     "name": "stdout",
     "output_type": "stream",
     "text": [
      "['False', 'None', 'True', '__peg_parser__', 'and', 'as', 'assert', 'async', 'await', 'break', 'class', 'continue', 'def', 'del', 'elif', 'else', 'except', 'finally', 'for', 'from', 'global', 'if', 'import', 'in', 'is', 'lambda', 'nonlocal', 'not', 'or', 'pass', 'raise', 'return', 'try', 'while', 'with', 'yield']\n"
     ]
    }
   ],
   "source": [
    "import keyword\n",
    "print(keyword.kwlist)\n"
   ]
  },
  {
   "cell_type": "markdown",
   "id": "77f3e7b9",
   "metadata": {},
   "source": [
    "#### 2. What are the rules to create variables in python?\n",
    "**Ans:** A variable can have a short name (like x and y) or a more descriptive name (age, carname, total_volume).\n",
    "\n",
    "Rules for Python variables:\n",
    "\n",
    "* A variable name must start with a letter or the underscore character\n",
    "* A variable name cannot start with a number\n",
    "* A variable name can only contain alpha-numeric characters and underscores (A-z, 0-9, and _ )\n",
    "* Variable names are case-sensitive (age, Age and AGE are three different variables)"
   ]
  },
  {
   "cell_type": "code",
   "execution_count": 4,
   "id": "6b156ea6",
   "metadata": {},
   "outputs": [],
   "source": [
    "name = \"John\"\n",
    "age = 25\n",
    "is_student = True\n",
    "pi_value = 3.14"
   ]
  },
  {
   "cell_type": "markdown",
   "id": "8c81a529",
   "metadata": {},
   "source": [
    "#### 3. What are the standards and conventions followed for the nomenclature of variables in python to improve code readability and maintainability?\n",
    "**Ans:** In Python, there are several standards and conventions followed for variable naming to enhance code readability and maintainability.\n",
    "\n",
    "* Use lowercase letters: Variable names should be in lowercase letters, and words should be separated by underscores. For example: my_variable.\n",
    "*  Choose variable names that accurately describe the purpose or content of the variable. This improves code readability and helps others understand your code. For example: count instead of c, customer_name instead of cn.\n",
    "* Don't use reserved keywords or built-in function names as variable names. For example, avoid naming a variable print or if."
   ]
  },
  {
   "cell_type": "markdown",
   "id": "68921ce4",
   "metadata": {},
   "source": [
    "#### 4. What will happen if a keyword is used as a variable name?\n",
    "**Ans:** If I use a keyword as a variable name in Python, I will encounter a syntax error. Python reserves certain keywords for specific purposes and they cannot be used as variable names."
   ]
  },
  {
   "cell_type": "code",
   "execution_count": 2,
   "id": "4eebb65b",
   "metadata": {},
   "outputs": [
    {
     "ename": "SyntaxError",
     "evalue": "invalid syntax (Temp/ipykernel_9232/2273388484.py, line 1)",
     "output_type": "error",
     "traceback": [
      "\u001b[1;36m  File \u001b[1;32m\"C:\\Users\\ritam\\AppData\\Local\\Temp/ipykernel_9232/2273388484.py\"\u001b[1;36m, line \u001b[1;32m1\u001b[0m\n\u001b[1;33m    else = 100\u001b[0m\n\u001b[1;37m    ^\u001b[0m\n\u001b[1;31mSyntaxError\u001b[0m\u001b[1;31m:\u001b[0m invalid syntax\n"
     ]
    }
   ],
   "source": [
    "else = 100"
   ]
  },
  {
   "cell_type": "markdown",
   "id": "beecd8eb",
   "metadata": {},
   "source": [
    "#### 5. For what purpose def keyword is used?\n",
    "**Ans:** User-defined functions are created with the 'def' keyword followed by a function name of your choosing."
   ]
  },
  {
   "cell_type": "markdown",
   "id": "01c65069",
   "metadata": {},
   "source": [
    "#### 6. What is the operation of this special character ‘\\’?\n",
    "**Ans:** In Python strings, the backslash \"\\\" is a special character, also called the \"escape\" character. It is used in representing certain whitespace characters: \"\\t\" is a tab, \"\\n\" is a newline, and \"\\r\" is a carriage return."
   ]
  },
  {
   "cell_type": "markdown",
   "id": "483620f7",
   "metadata": {},
   "source": [
    "#### 7. Give an example of the following conditions:\n",
    "#### (i) Homogeneous list\n",
    "#### (ii) Heterogeneous set\n",
    "#### (iii) Homogeneous tuple\n",
    "\n",
    "**Ans:** \n",
    "##### Homogeneous list:\n",
    "A homogeneous list contains elements of the same type."
   ]
  },
  {
   "cell_type": "code",
   "execution_count": 7,
   "id": "8863bdd5",
   "metadata": {},
   "outputs": [
    {
     "name": "stdout",
     "output_type": "stream",
     "text": [
      "[1, 2, 3, 4, 5]\n"
     ]
    }
   ],
   "source": [
    "homogenous_list = [1,2,3,4,5]\n",
    "print(homogenous_list)"
   ]
  },
  {
   "cell_type": "markdown",
   "id": "1a88d516",
   "metadata": {},
   "source": [
    "##### Heterogeneous set:\n",
    "A heterogeneous set refers to a set that can contain elements of different types or data structures."
   ]
  },
  {
   "cell_type": "code",
   "execution_count": 5,
   "id": "718a1f76",
   "metadata": {},
   "outputs": [
    {
     "name": "stdout",
     "output_type": "stream",
     "text": [
      "[10, 'iNeuron', True, 3.14, [1, 2, 3]]\n"
     ]
    }
   ],
   "source": [
    "heterogeneous_set = [10, \"iNeuron\", True, 3.14, [1, 2, 3]]\n",
    "\n",
    "print(heterogeneous_set)"
   ]
  },
  {
   "cell_type": "markdown",
   "id": "1088fd39",
   "metadata": {},
   "source": [
    "##### Homogenous tuple:\n",
    "A homogeneous tuple contains elements of the same type. "
   ]
  },
  {
   "cell_type": "code",
   "execution_count": 8,
   "id": "1e721312",
   "metadata": {},
   "outputs": [
    {
     "name": "stdout",
     "output_type": "stream",
     "text": [
      "['apple', 'banana', 'grapes', 'cherry']\n"
     ]
    }
   ],
   "source": [
    "homogenous_tuple = [\"apple\",\"banana\",\"grapes\",\"cherry\"]\n",
    "print(homogenous_tuple)"
   ]
  },
  {
   "cell_type": "markdown",
   "id": "66aa1fa1",
   "metadata": {},
   "source": [
    "#### 8. Explain the mutable and immutable data types with proper explanation & examples.\n",
    "**Ans:**\n",
    "_Mutable_ data types can be modified after they are created. This means you can change their values, add or remove elements, or modify their internal state."
   ]
  },
  {
   "cell_type": "code",
   "execution_count": 2,
   "id": "9104d37a",
   "metadata": {},
   "outputs": [
    {
     "name": "stdout",
     "output_type": "stream",
     "text": [
      "[10, 2, 3]\n"
     ]
    }
   ],
   "source": [
    "my_list = [1, 2, 3]\n",
    "my_list[0] = 10  \n",
    "print(my_list)"
   ]
  },
  {
   "cell_type": "code",
   "execution_count": 3,
   "id": "3cee1d41",
   "metadata": {},
   "outputs": [
    {
     "name": "stdout",
     "output_type": "stream",
     "text": [
      "[10, 2, 3, 4]\n"
     ]
    }
   ],
   "source": [
    "my_list.append(4)\n",
    "print(my_list)"
   ]
  },
  {
   "cell_type": "code",
   "execution_count": 4,
   "id": "3e454c3f",
   "metadata": {},
   "outputs": [
    {
     "name": "stdout",
     "output_type": "stream",
     "text": [
      "[10, 3, 4]\n"
     ]
    }
   ],
   "source": [
    "my_list.remove(2)\n",
    "print(my_list)"
   ]
  },
  {
   "cell_type": "markdown",
   "id": "07548b88",
   "metadata": {},
   "source": [
    "_Immutable_ data types cannot be modified once they are created. Any operation that appears to modify an immutable object actually creates a new object with the modified value."
   ]
  },
  {
   "cell_type": "code",
   "execution_count": 5,
   "id": "4be96ba4",
   "metadata": {},
   "outputs": [
    {
     "name": "stdout",
     "output_type": "stream",
     "text": [
      "Hello iNeuron\n"
     ]
    }
   ],
   "source": [
    "my_string = \"Hello\"\n",
    "new_string = my_string + \" iNeuron\"\n",
    "print(new_string)"
   ]
  },
  {
   "cell_type": "code",
   "execution_count": 6,
   "id": "4f2f489c",
   "metadata": {},
   "outputs": [
    {
     "name": "stdout",
     "output_type": "stream",
     "text": [
      "Hello\n"
     ]
    }
   ],
   "source": [
    "print(my_string)"
   ]
  },
  {
   "cell_type": "code",
   "execution_count": 7,
   "id": "8900b0d6",
   "metadata": {},
   "outputs": [
    {
     "name": "stdout",
     "output_type": "stream",
     "text": [
      "(1, 2, 3, 4)\n"
     ]
    }
   ],
   "source": [
    "my_tuple = (1, 2, 3)\n",
    "new_tuple = my_tuple + (4,)\n",
    "print(new_tuple)"
   ]
  },
  {
   "cell_type": "code",
   "execution_count": 8,
   "id": "631aa5ee",
   "metadata": {},
   "outputs": [
    {
     "name": "stdout",
     "output_type": "stream",
     "text": [
      "(1, 2, 3)\n"
     ]
    }
   ],
   "source": [
    "print(my_tuple)"
   ]
  },
  {
   "cell_type": "markdown",
   "id": "91e2e546",
   "metadata": {},
   "source": [
    "#### 9. Write a code to create the given structure using only for loop.\n"
   ]
  },
  {
   "cell_type": "code",
   "execution_count": 17,
   "id": "fdee3bf0",
   "metadata": {},
   "outputs": [
    {
     "name": "stdout",
     "output_type": "stream",
     "text": [
      "    *\n",
      "   ***\n",
      "  *****\n",
      " *******\n",
      "*********\n"
     ]
    }
   ],
   "source": [
    "#    *\n",
    "#   ***\n",
    "#  *****\n",
    "# *******\n",
    "#*********\n",
    "\n",
    "#code:\n",
    "\n",
    "num = 5\n",
    "for i in range(0, num):\n",
    "    for j in range(0, num-i-1):\n",
    "        print(\" \", end=\"\")\n",
    "    for j in range(0, i*2+1):\n",
    "        print(\"*\", end=\"\")\n",
    "    print()"
   ]
  },
  {
   "cell_type": "markdown",
   "id": "8eb20e7f",
   "metadata": {},
   "source": [
    "#### 10. Write a code to create the given structure using while loop."
   ]
  },
  {
   "cell_type": "code",
   "execution_count": 19,
   "id": "ece5ef3e",
   "metadata": {},
   "outputs": [
    {
     "name": "stdout",
     "output_type": "stream",
     "text": [
      "|||||||||\n",
      " |||||||\n",
      "  |||||\n",
      "   |||\n",
      "    |\n"
     ]
    }
   ],
   "source": [
    "#|||||||||\n",
    "# |||||||\n",
    "#  |||||\n",
    "#   |||\n",
    "#    |\n",
    "\n",
    "#code:\n",
    "\n",
    "num = 5\n",
    "for i in range(0, num):\n",
    "    for j in range(0, i):\n",
    "        print(\" \", end=\"\")\n",
    "    for j in range(i*2, num*2-1):\n",
    "        print(\"|\", end=\"\")\n",
    "    print()"
   ]
  }
 ],
 "metadata": {
  "kernelspec": {
   "display_name": "Python 3 (ipykernel)",
   "language": "python",
   "name": "python3"
  },
  "language_info": {
   "codemirror_mode": {
    "name": "ipython",
    "version": 3
   },
   "file_extension": ".py",
   "mimetype": "text/x-python",
   "name": "python",
   "nbconvert_exporter": "python",
   "pygments_lexer": "ipython3",
   "version": "3.9.7"
  }
 },
 "nbformat": 4,
 "nbformat_minor": 5
}
